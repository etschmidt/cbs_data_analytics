{
 "cells": [
  {
   "cell_type": "markdown",
   "metadata": {},
   "source": [
    "# Assignment 3\n",
    "## Ethan T. Schmidt\n",
    "## Web Scraping and Sorting"
   ]
  },
  {
   "cell_type": "code",
   "execution_count": null,
   "metadata": {},
   "outputs": [],
   "source": [
    "import requests\n",
    "from bs4 import BeautifulSoup"
   ]
  },
  {
   "cell_type": "code",
   "execution_count": null,
   "metadata": {},
   "outputs": [],
   "source": [
    "def get_us_sector_performance():\n",
    "    output_list = []\n",
    "    url = \"https://eresearch.fidelity.com/eresearch/goto/markets_sectors/landing.jhtml\"\n",
    "    # get response from url\n",
    "    response = requests.get(url)\n",
    "    if not response.status_code == 200:\n",
    "        return None\n",
    "    try:\n",
    "        # convert to lxml\n",
    "        results_page = BeautifulSoup(response.content,'lxml')\n",
    "        sectors = results_page.find_all('a',class_=\"heading1\")\n",
    "#         return sectors\n",
    "        for sector in sectors:\n",
    "            link = \"https://eresearch.fidelity.com\" + sector.get('href')\n",
    "#             print(link)\n",
    "            info = get_sector_change_and_market_cap(link)\n",
    "            name = sector.get_text()\n",
    "            sector_change = info[0]\n",
    "#             print(sector_change)\n",
    "            sector_market_cap = info[1]\n",
    "#             print(sector_market_cap)\n",
    "            sector_market_weight = info[2]\n",
    "#             print(sector_market_weight)\n",
    "#             print(name)\n",
    "            output_list.append((name,sector_change,sector_market_cap,sector_market_weight,link))\n",
    "            \n",
    "        return sorted(output_list, key=lambda k: k[3])\n",
    "    except:\n",
    "        return None"
   ]
  },
  {
   "cell_type": "code",
   "execution_count": null,
   "metadata": {},
   "outputs": [],
   "source": [
    "def get_sector_change_and_market_cap(sector_page_link):\n",
    "    # get response from url\n",
    "    response = requests.get(sector_page_link)\n",
    "    if not response.status_code == 200:\n",
    "        return None\n",
    "    try:\n",
    "        # convert to lxml\n",
    "        results_page = BeautifulSoup(response.content,'lxml')\n",
    "#         return results_page\n",
    "        table = results_page.find('table',class_=\"snapshot-data-tbl\")\n",
    "        cells = table.find('tbody').find('tr').find_all('td')\n",
    "#         return cells[2].find('span').get_text()\n",
    "        sector_change = float(cells[0].find('span').get_text()[:-1])\n",
    "        sector_market_cap = cells[1].find('span').get_text()\n",
    "        sector_market_weight = float(cells[2].find('span').get_text()[:-1])\n",
    "    except:\n",
    "        return None\n",
    "\n",
    "    return sector_change,sector_market_cap,sector_market_weight"
   ]
  },
  {
   "cell_type": "code",
   "execution_count": null,
   "metadata": {},
   "outputs": [],
   "source": [
    "#Test get_us_sector_performance()\n",
    "get_us_sector_performance()"
   ]
  }
 ],
 "metadata": {
  "kernelspec": {
   "display_name": "Python 3",
   "language": "python",
   "name": "python3"
  },
  "language_info": {
   "codemirror_mode": {
    "name": "ipython",
    "version": 3
   },
   "file_extension": ".py",
   "mimetype": "text/x-python",
   "name": "python",
   "nbconvert_exporter": "python",
   "pygments_lexer": "ipython3",
   "version": "3.7.0"
  }
 },
 "nbformat": 4,
 "nbformat_minor": 2
}
