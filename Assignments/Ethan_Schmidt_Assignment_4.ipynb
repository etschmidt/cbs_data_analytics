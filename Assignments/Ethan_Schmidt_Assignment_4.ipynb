{
 "cells": [
  {
   "cell_type": "markdown",
   "metadata": {},
   "source": [
    "<h1>Numpy and Pandas Home Assignment</h1>\n",
    "In this assignment, we will use pandas and numpy to do some fairly basic analysis on equities."
   ]
  },
  {
   "cell_type": "markdown",
   "metadata": {},
   "source": [
    "<h3>Imports</h3>"
   ]
  },
  {
   "cell_type": "code",
   "execution_count": 2,
   "metadata": {},
   "outputs": [],
   "source": [
    "import datetime\n",
    "import numpy as np\n",
    "import pandas as pd\n",
    "%matplotlib inline\n",
    "import quandl # I used quandl because yahoo actions were depreciated\n",
    "pd.core.common.is_list_like = pd.api.types.is_list_like\n",
    "import pandas_datareader.data as web\n",
    "# import fix_yahoo_finance as yf\n",
    "quandl.ApiConfig.api_key = '4aMNMqjBPzy7zzuaKFnB'"
   ]
  },
  {
   "cell_type": "markdown",
   "metadata": {},
   "source": [
    "<h3>Get data on the following four stocks from yahoo finance</h3>\n",
    "<li>MS, GS, JPM, C\n",
    "<li>Use the date range 2013/1/1/ to 2018/9/24"
   ]
  },
  {
   "cell_type": "code",
   "execution_count": 4,
   "metadata": {},
   "outputs": [
    {
     "data": {
      "text/html": [
       "<div>\n",
       "<style scoped>\n",
       "    .dataframe tbody tr th:only-of-type {\n",
       "        vertical-align: middle;\n",
       "    }\n",
       "\n",
       "    .dataframe tbody tr th {\n",
       "        vertical-align: top;\n",
       "    }\n",
       "\n",
       "    .dataframe thead th {\n",
       "        text-align: right;\n",
       "    }\n",
       "</style>\n",
       "<table border=\"1\" class=\"dataframe\">\n",
       "  <thead>\n",
       "    <tr style=\"text-align: right;\">\n",
       "      <th></th>\n",
       "      <th>ticker</th>\n",
       "      <th>date</th>\n",
       "      <th>open</th>\n",
       "      <th>high</th>\n",
       "      <th>low</th>\n",
       "      <th>close</th>\n",
       "      <th>volume</th>\n",
       "      <th>ex-dividend</th>\n",
       "      <th>split_ratio</th>\n",
       "      <th>adj_open</th>\n",
       "      <th>adj_high</th>\n",
       "      <th>adj_low</th>\n",
       "      <th>adj_close</th>\n",
       "      <th>adj_volume</th>\n",
       "    </tr>\n",
       "    <tr>\n",
       "      <th>None</th>\n",
       "      <th></th>\n",
       "      <th></th>\n",
       "      <th></th>\n",
       "      <th></th>\n",
       "      <th></th>\n",
       "      <th></th>\n",
       "      <th></th>\n",
       "      <th></th>\n",
       "      <th></th>\n",
       "      <th></th>\n",
       "      <th></th>\n",
       "      <th></th>\n",
       "      <th></th>\n",
       "      <th></th>\n",
       "    </tr>\n",
       "  </thead>\n",
       "  <tbody>\n",
       "    <tr>\n",
       "      <th>0</th>\n",
       "      <td>MS</td>\n",
       "      <td>2018-03-27</td>\n",
       "      <td>54.53</td>\n",
       "      <td>54.90</td>\n",
       "      <td>52.63</td>\n",
       "      <td>53.15</td>\n",
       "      <td>12209206.0</td>\n",
       "      <td>0.0</td>\n",
       "      <td>1.0</td>\n",
       "      <td>54.53</td>\n",
       "      <td>54.90</td>\n",
       "      <td>52.63</td>\n",
       "      <td>53.15</td>\n",
       "      <td>12209206.0</td>\n",
       "    </tr>\n",
       "    <tr>\n",
       "      <th>1</th>\n",
       "      <td>MS</td>\n",
       "      <td>2018-03-26</td>\n",
       "      <td>53.33</td>\n",
       "      <td>54.43</td>\n",
       "      <td>52.64</td>\n",
       "      <td>54.30</td>\n",
       "      <td>11824606.0</td>\n",
       "      <td>0.0</td>\n",
       "      <td>1.0</td>\n",
       "      <td>53.33</td>\n",
       "      <td>54.43</td>\n",
       "      <td>52.64</td>\n",
       "      <td>54.30</td>\n",
       "      <td>11824606.0</td>\n",
       "    </tr>\n",
       "    <tr>\n",
       "      <th>2</th>\n",
       "      <td>MS</td>\n",
       "      <td>2018-03-23</td>\n",
       "      <td>54.91</td>\n",
       "      <td>54.98</td>\n",
       "      <td>51.99</td>\n",
       "      <td>52.07</td>\n",
       "      <td>16396181.0</td>\n",
       "      <td>0.0</td>\n",
       "      <td>1.0</td>\n",
       "      <td>54.91</td>\n",
       "      <td>54.98</td>\n",
       "      <td>51.99</td>\n",
       "      <td>52.07</td>\n",
       "      <td>16396181.0</td>\n",
       "    </tr>\n",
       "    <tr>\n",
       "      <th>3</th>\n",
       "      <td>MS</td>\n",
       "      <td>2018-03-22</td>\n",
       "      <td>56.31</td>\n",
       "      <td>56.67</td>\n",
       "      <td>54.51</td>\n",
       "      <td>54.64</td>\n",
       "      <td>14593391.0</td>\n",
       "      <td>0.0</td>\n",
       "      <td>1.0</td>\n",
       "      <td>56.31</td>\n",
       "      <td>56.67</td>\n",
       "      <td>54.51</td>\n",
       "      <td>54.64</td>\n",
       "      <td>14593391.0</td>\n",
       "    </tr>\n",
       "    <tr>\n",
       "      <th>4</th>\n",
       "      <td>MS</td>\n",
       "      <td>2018-03-21</td>\n",
       "      <td>57.33</td>\n",
       "      <td>58.17</td>\n",
       "      <td>56.89</td>\n",
       "      <td>57.11</td>\n",
       "      <td>8417244.0</td>\n",
       "      <td>0.0</td>\n",
       "      <td>1.0</td>\n",
       "      <td>57.33</td>\n",
       "      <td>58.17</td>\n",
       "      <td>56.89</td>\n",
       "      <td>57.11</td>\n",
       "      <td>8417244.0</td>\n",
       "    </tr>\n",
       "  </tbody>\n",
       "</table>\n",
       "</div>"
      ],
      "text/plain": [
       "     ticker       date   open   high    low  close      volume  ex-dividend  \\\n",
       "None                                                                          \n",
       "0        MS 2018-03-27  54.53  54.90  52.63  53.15  12209206.0          0.0   \n",
       "1        MS 2018-03-26  53.33  54.43  52.64  54.30  11824606.0          0.0   \n",
       "2        MS 2018-03-23  54.91  54.98  51.99  52.07  16396181.0          0.0   \n",
       "3        MS 2018-03-22  56.31  56.67  54.51  54.64  14593391.0          0.0   \n",
       "4        MS 2018-03-21  57.33  58.17  56.89  57.11   8417244.0          0.0   \n",
       "\n",
       "      split_ratio  adj_open  adj_high  adj_low  adj_close  adj_volume  \n",
       "None                                                                   \n",
       "0             1.0     54.53     54.90    52.63      53.15  12209206.0  \n",
       "1             1.0     53.33     54.43    52.64      54.30  11824606.0  \n",
       "2             1.0     54.91     54.98    51.99      52.07  16396181.0  \n",
       "3             1.0     56.31     56.67    54.51      54.64  14593391.0  \n",
       "4             1.0     57.33     58.17    56.89      57.11   8417244.0  "
      ]
     },
     "execution_count": 4,
     "metadata": {},
     "output_type": "execute_result"
    }
   ],
   "source": [
    "all_data = quandl.get_table('WIKI/PRICES', ticker = ['MS'], \n",
    "                        date = { 'gte': '2013-01-01', 'lte': '2018-09-24' }, \n",
    "                        paginate=True)\n",
    "\n",
    "all_data.head()"
   ]
  },
  {
   "cell_type": "markdown",
   "metadata": {},
   "source": [
    "<h3>Compute the cross correlation coefficients on the stocks</h3>\n",
    "<li>Create a df 'rets' with the one day percentage changes\n",
    "<li>Calculate cross correlations on the rets df"
   ]
  },
  {
   "cell_type": "code",
   "execution_count": 3,
   "metadata": {},
   "outputs": [
    {
     "data": {
      "text/html": [
       "<div>\n",
       "<style scoped>\n",
       "    .dataframe tbody tr th:only-of-type {\n",
       "        vertical-align: middle;\n",
       "    }\n",
       "\n",
       "    .dataframe tbody tr th {\n",
       "        vertical-align: top;\n",
       "    }\n",
       "\n",
       "    .dataframe thead th {\n",
       "        text-align: right;\n",
       "    }\n",
       "</style>\n",
       "<table border=\"1\" class=\"dataframe\">\n",
       "  <thead>\n",
       "    <tr style=\"text-align: right;\">\n",
       "      <th>ticker</th>\n",
       "      <th>C</th>\n",
       "      <th>GS</th>\n",
       "      <th>JPM</th>\n",
       "      <th>MS</th>\n",
       "    </tr>\n",
       "    <tr>\n",
       "      <th>ticker</th>\n",
       "      <th></th>\n",
       "      <th></th>\n",
       "      <th></th>\n",
       "      <th></th>\n",
       "    </tr>\n",
       "  </thead>\n",
       "  <tbody>\n",
       "    <tr>\n",
       "      <th>C</th>\n",
       "      <td>1.000000</td>\n",
       "      <td>0.795786</td>\n",
       "      <td>0.854757</td>\n",
       "      <td>0.813932</td>\n",
       "    </tr>\n",
       "    <tr>\n",
       "      <th>GS</th>\n",
       "      <td>0.795786</td>\n",
       "      <td>1.000000</td>\n",
       "      <td>0.814197</td>\n",
       "      <td>0.842153</td>\n",
       "    </tr>\n",
       "    <tr>\n",
       "      <th>JPM</th>\n",
       "      <td>0.854757</td>\n",
       "      <td>0.814197</td>\n",
       "      <td>1.000000</td>\n",
       "      <td>0.798226</td>\n",
       "    </tr>\n",
       "    <tr>\n",
       "      <th>MS</th>\n",
       "      <td>0.813932</td>\n",
       "      <td>0.842153</td>\n",
       "      <td>0.798226</td>\n",
       "      <td>1.000000</td>\n",
       "    </tr>\n",
       "  </tbody>\n",
       "</table>\n",
       "</div>"
      ],
      "text/plain": [
       "ticker         C        GS       JPM        MS\n",
       "ticker                                        \n",
       "C       1.000000  0.795786  0.854757  0.813932\n",
       "GS      0.795786  1.000000  0.814197  0.842153\n",
       "JPM     0.854757  0.814197  1.000000  0.798226\n",
       "MS      0.813932  0.842153  0.798226  1.000000"
      ]
     },
     "execution_count": 3,
     "metadata": {},
     "output_type": "execute_result"
    }
   ],
   "source": [
    "# Isolate the `Adj Close` values and transform the DataFrame\n",
    "daily_close_px = all_data.pivot(index='date', columns='ticker', values='adj_close')\n",
    "\n",
    "# Calculate the daily percentage change for `daily_close_px`\n",
    "rets = daily_close_px.pct_change()\n",
    "\n",
    "# correlate\n",
    "rets.corr(method='pearson', min_periods=1)"
   ]
  },
  {
   "cell_type": "markdown",
   "metadata": {},
   "source": [
    "<h3>Select a pair of stocks to trade</h3>\n",
    "<li>Choose the pair with the highest correlation\n",
    "<li>You can just eyeball the result and pick the highest correlation pairs\n",
    "<li>Create a new df 'pairs' with the returns columns of the highest correlation pairs"
   ]
  },
  {
   "cell_type": "code",
   "execution_count": 4,
   "metadata": {},
   "outputs": [
    {
     "name": "stdout",
     "output_type": "stream",
     "text": [
      "ticker             C       JPM\n",
      "date                          \n",
      "2013-01-03  0.003394 -0.002015\n",
      "2013-01-04  0.025122  0.017725\n",
      "2013-01-07  0.000947  0.001102\n",
      "2013-01-08 -0.000235  0.001982\n",
      "2013-01-09 -0.009892 -0.000659\n"
     ]
    }
   ],
   "source": [
    "# it appears that GS and JPM are more correlated, but I'll use what fits the words below\n",
    "pairs = rets[['C', 'JPM']].iloc[1:-1]\n",
    "\n",
    "print(pairs.head())\n",
    "# print(pairs['C'])"
   ]
  },
  {
   "cell_type": "markdown",
   "metadata": {},
   "source": [
    "<h3>Calculate the mean and std dev of the columns (returns of the two stocks)</h3>\n",
    "<li>Note that line 1 contains a NaN. You'll have to get rid of this line\n",
    "<li>df.describe() returns summary stats for all cols in a dataframe. You can use this to extract means and standard deviations"
   ]
  },
  {
   "cell_type": "code",
   "execution_count": 5,
   "metadata": {},
   "outputs": [
    {
     "name": "stdout",
     "output_type": "stream",
     "text": [
      "0.0150407028140531 0.012887162087069495 0.0005347629278196414 0.000866389513644403\n"
     ]
    }
   ],
   "source": [
    "new_df = rets[['C','JPM']].iloc[1:-1]\n",
    "c_std = new_df.describe()['C']['std']\n",
    "j_std = new_df.describe()['JPM']['std']\n",
    "c_mean = new_df.describe()['C']['mean']\n",
    "j_mean = new_df.describe()['JPM']['mean']\n",
    "\n",
    "print(c_std, j_std, c_mean, j_mean)"
   ]
  },
  {
   "cell_type": "markdown",
   "metadata": {},
   "source": [
    "<h3>Create a new column \"Long_JPM_Short_C\"</h3>\n",
    "<li>If the return of C is greater than its mean + 0.25* std\n",
    "<li> AND\n",
    "<li>If the return of JPM is less than its mean - 0.25*std\n",
    "<li>The value in this col should be True or False"
   ]
  },
  {
   "cell_type": "code",
   "execution_count": 6,
   "metadata": {},
   "outputs": [
    {
     "name": "stdout",
     "output_type": "stream",
     "text": [
      "ticker             C       JPM  Long_JPM_Short_C\n",
      "date                                            \n",
      "2013-01-03  0.003394 -0.002015             False\n",
      "2013-01-04  0.025122  0.017725             False\n",
      "2013-01-07  0.000947  0.001102             False\n",
      "2013-01-08 -0.000235  0.001982             False\n",
      "2013-01-09 -0.009892 -0.000659             False\n"
     ]
    }
   ],
   "source": [
    "new_df['Long_JPM_Short_C'] = np.where((new_df['C']>c_mean+0.25*c_std) & (new_df['JPM']<j_mean-0.25*j_std),True,False)\n",
    "\n",
    "print(new_df.head())"
   ]
  },
  {
   "cell_type": "markdown",
   "metadata": {},
   "source": [
    "<h3>Create a new column \"Long_C_Short_JPM\"</h3>\n",
    "<li>If the return of JPM is greater than its mean + 0.25* std\n",
    "<li> AND\n",
    "<li>If the return of C is less than its mean - 0.25*std\n",
    "<li>The value in this col should be True or False"
   ]
  },
  {
   "cell_type": "code",
   "execution_count": 7,
   "metadata": {},
   "outputs": [
    {
     "name": "stdout",
     "output_type": "stream",
     "text": [
      "ticker             C       JPM  Long_JPM_Short_C  Long_C_Short_JPM\n",
      "date                                                              \n",
      "2013-01-03  0.003394 -0.002015             False             False\n",
      "2013-01-04  0.025122  0.017725             False             False\n",
      "2013-01-07  0.000947  0.001102             False             False\n",
      "2013-01-08 -0.000235  0.001982             False             False\n",
      "2013-01-09 -0.009892 -0.000659             False             False\n",
      "2013-01-10  0.018792  0.014955             False             False\n",
      "2013-01-11 -0.011441 -0.000217             False             False\n",
      "2013-01-14 -0.002834 -0.005635             False             False\n",
      "2013-01-15  0.008290  0.010244             False             False\n",
      "2013-01-16 -0.002114  0.010140             False             False\n",
      "2013-01-17 -0.029190 -0.008116             False             False\n",
      "2013-01-18  0.010184  0.000431             False             False\n",
      "2013-01-22  0.002880  0.001722             False             False\n",
      "2013-01-23  0.005744 -0.006661              True             False\n",
      "2013-01-24  0.018563  0.003028             False             False\n",
      "2013-01-25  0.002570  0.017037             False             False\n",
      "2013-01-28 -0.013284 -0.011026             False             False\n",
      "2013-01-29 -0.004251  0.010292             False              True\n",
      "2013-01-30 -0.004981  0.000212             False             False\n",
      "2013-01-31  0.005244 -0.001697             False             False\n",
      "2013-02-01  0.020398  0.017003             False             False\n",
      "2013-02-04 -0.018828 -0.003553             False             False\n",
      "2013-02-05  0.016821  0.023280             False             False\n",
      "2013-02-06  0.003029 -0.003689             False             False\n",
      "2013-02-07 -0.004181 -0.007817             False             False\n",
      "2013-02-08 -0.004432  0.008294             False              True\n",
      "2013-02-11  0.011012  0.000617             False             False\n",
      "2013-02-12  0.027810  0.009864             False             False\n",
      "2013-02-13 -0.007892 -0.009361             False             False\n",
      "2013-02-14  0.007273  0.011093             False             False\n",
      "...              ...       ...               ...               ...\n",
      "2018-02-12  0.014658  0.015449             False             False\n",
      "2018-02-13  0.005618  0.006175             False             False\n",
      "2018-02-14  0.020351  0.023126             False             False\n",
      "2018-02-15  0.004823  0.004173             False             False\n",
      "2018-02-16 -0.003373 -0.007186             False             False\n",
      "2018-02-20 -0.004686  0.000262             False             False\n",
      "2018-02-21  0.007063  0.004184             False             False\n",
      "2018-02-22 -0.009481 -0.001823             False             False\n",
      "2018-02-23  0.010620  0.020264             False             False\n",
      "2018-02-26  0.007395  0.012446             False             False\n",
      "2018-02-27 -0.016355 -0.011872             False             False\n",
      "2018-02-28 -0.011652 -0.015849             False             False\n",
      "2018-03-01 -0.024242 -0.017922             False             False\n",
      "2018-03-02  0.000272 -0.000970             False             False\n",
      "2018-03-05  0.010043  0.015355             False             False\n",
      "2018-03-06 -0.004837  0.000869             False             False\n",
      "2018-03-07 -0.001890 -0.003734             False             False\n",
      "2018-03-08  0.002570  0.000087             False             False\n",
      "2018-03-09  0.026987  0.028761             False             False\n",
      "2018-03-12 -0.001182 -0.003219             False             False\n",
      "2018-03-13 -0.014601 -0.011984             False             False\n",
      "2018-03-14 -0.019223 -0.011183             False             False\n",
      "2018-03-15 -0.001769  0.002523             False             False\n",
      "2018-03-16  0.001773  0.001736             False             False\n",
      "2018-03-19 -0.010480 -0.007883             False             False\n",
      "2018-03-20  0.003026  0.000960             False             False\n",
      "2018-03-21  0.005485  0.000872             False             False\n",
      "2018-03-22 -0.041053 -0.041747             False             False\n",
      "2018-03-23 -0.034277 -0.026739             False             False\n",
      "2018-03-26  0.027688  0.030838             False             False\n",
      "\n",
      "[1315 rows x 4 columns]\n"
     ]
    }
   ],
   "source": [
    "new_df['Long_C_Short_JPM'] = np.where((new_df['JPM']>j_mean+0.25*j_std) & (new_df['C']<c_mean-0.25*c_std),True,False)\n",
    "\n",
    "print(new_df)"
   ]
  },
  {
   "cell_type": "markdown",
   "metadata": {},
   "source": [
    "<h3>Create a new column \"Trade_return\"</h3>\n",
    "<li>If Long_JPM_Short_C is True and Long_C_Short_JPM is False, the value of this column should be the return on JPM minus the return on C\n",
    "<li>If Long_JPM_Short_C is False and Long_C_Short_JPM is True, the value of this column should be the return on C minus the return on JPM\n",
    "\n",
    "<li>Otherwise the value should be zero"
   ]
  },
  {
   "cell_type": "code",
   "execution_count": 8,
   "metadata": {},
   "outputs": [
    {
     "name": "stdout",
     "output_type": "stream",
     "text": [
      "-0.5929190758688165\n"
     ]
    }
   ],
   "source": [
    "# JminC = new_df['Long_JPM_Short_C'] ^ new_df['Long_C_Short_JPM']\n",
    "# CminJ = new_df['Long_C_Short_JPM'] ^ new_df['Long_JPM_Short_C']\n",
    "\n",
    "pairs['Trade_return'] = np.where(\n",
    "    new_df['Long_JPM_Short_C'] & ~new_df['Long_C_Short_JPM'],\n",
    "    new_df['JPM'] - new_df['C'],\n",
    "    np.where(~new_df['Long_JPM_Short_C'] & new_df['Long_C_Short_JPM'],\n",
    "    new_df['C'] - new_df['JPM'], 0))\n",
    "\n",
    "total = pairs['Trade_return'].sum()\n",
    "print(total)\n",
    "#     np.where(new_df['Long_C_Short_JPM']==True & new_df['Long_JPM_Short_C']!=True,\n",
    "#     CminJ, 0))\n",
    "# Total = df['MyColumn'].sum()\n",
    "# print (Total)\n",
    "# 319"
   ]
  },
  {
   "cell_type": "markdown",
   "metadata": {},
   "source": [
    "<h3>Calculate the sum of this new column</h3>\n",
    "<li>Are you going to get rich?"
   ]
  },
  {
   "cell_type": "code",
   "execution_count": 9,
   "metadata": {},
   "outputs": [
    {
     "name": "stdout",
     "output_type": "stream",
     "text": [
      "no\n"
     ]
    }
   ],
   "source": [
    "print('no')"
   ]
  }
 ],
 "metadata": {
  "kernelspec": {
   "display_name": "Python 3",
   "language": "python",
   "name": "python3"
  },
  "language_info": {
   "codemirror_mode": {
    "name": "ipython",
    "version": 3
   },
   "file_extension": ".py",
   "mimetype": "text/x-python",
   "name": "python",
   "nbconvert_exporter": "python",
   "pygments_lexer": "ipython3",
   "version": "3.7.0"
  }
 },
 "nbformat": 4,
 "nbformat_minor": 2
}
