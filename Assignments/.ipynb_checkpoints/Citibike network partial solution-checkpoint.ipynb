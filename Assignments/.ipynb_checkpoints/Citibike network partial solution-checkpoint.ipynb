{
 "cells": [
  {
   "cell_type": "markdown",
   "metadata": {},
   "source": [
    "<h1>Citibike Network Assignment</h1>\n",
    "<li>The file, 201809-citibike-tripdata.csv, contains citibike trip data from September 2018\n",
    "<li>The data:<br>\n",
    "\"tripduration\",\"starttime\",\"stoptime\",\"start station id\",\"start station name\",\"start station latitude\",\"start station longitude\",\"end station id\",\"end station name\",\"end station latitude\",\"end station longitude\",\"bikeid\",\"usertype\",\"birth year\",\"gender\"\n",
    "<li>Each record in the data is a trip \n",
    "<li>The data is described at https://www.citibikenyc.com/system-data"
   ]
  },
  {
   "cell_type": "markdown",
   "metadata": {},
   "source": [
    "<h1>STEP 1: Read the data into a dataframe</h1>\n",
    "<li>Convert station ids to str if necessary"
   ]
  },
  {
   "cell_type": "code",
   "execution_count": 1,
   "metadata": {
    "collapsed": true
   },
   "outputs": [],
   "source": [
    "import pandas as pd\n",
    "import numpy as np\n",
    "datafile = \"/Users/hardeepjohar/Documents/Courses/DataAnalyticsFall2017/networks/2014-01 - Citi Bike trip data.csv\"\n",
    "df = pd.read_csv(datafile)\n"
   ]
  },
  {
   "cell_type": "markdown",
   "metadata": {},
   "source": [
    "<h1>STEP 2: Remove data that have any nans in any row</h1>\n",
    "<li>and convert stationids to str "
   ]
  },
  {
   "cell_type": "code",
   "execution_count": 2,
   "metadata": {},
   "outputs": [
    {
     "name": "stdout",
     "output_type": "stream",
     "text": [
      "<class 'pandas.core.frame.DataFrame'>\n",
      "RangeIndex: 300400 entries, 0 to 300399\n",
      "Data columns (total 15 columns):\n",
      "tripduration               300400 non-null int64\n",
      "starttime                  300400 non-null object\n",
      "stoptime                   300400 non-null object\n",
      "start station id           300400 non-null int64\n",
      "start station name         300400 non-null object\n",
      "start station latitude     300400 non-null float64\n",
      "start station longitude    300400 non-null float64\n",
      "end station id             300400 non-null int64\n",
      "end station name           300400 non-null object\n",
      "end station latitude       300400 non-null float64\n",
      "end station longitude      300400 non-null float64\n",
      "bikeid                     300400 non-null int64\n",
      "usertype                   300400 non-null object\n",
      "birth year                 300400 non-null object\n",
      "gender                     300400 non-null int64\n",
      "dtypes: float64(4), int64(5), object(6)\n",
      "memory usage: 34.4+ MB\n"
     ]
    }
   ],
   "source": [
    "df.info()"
   ]
  },
  {
   "cell_type": "code",
   "execution_count": null,
   "metadata": {
    "collapsed": true
   },
   "outputs": [],
   "source": [
    "df[(df['start station id'] == '83') & (df['end station id']=='540')]"
   ]
  },
  {
   "cell_type": "code",
   "execution_count": 3,
   "metadata": {},
   "outputs": [
    {
     "name": "stdout",
     "output_type": "stream",
     "text": [
      "<class 'pandas.core.frame.DataFrame'>\n",
      "Int64Index: 300400 entries, 0 to 300399\n",
      "Data columns (total 15 columns):\n",
      "tripduration               300400 non-null int64\n",
      "starttime                  300400 non-null object\n",
      "stoptime                   300400 non-null object\n",
      "start station id           300400 non-null object\n",
      "start station name         300400 non-null object\n",
      "start station latitude     300400 non-null float64\n",
      "start station longitude    300400 non-null float64\n",
      "end station id             300400 non-null object\n",
      "end station name           300400 non-null object\n",
      "end station latitude       300400 non-null float64\n",
      "end station longitude      300400 non-null float64\n",
      "bikeid                     300400 non-null int64\n",
      "usertype                   300400 non-null object\n",
      "birth year                 300400 non-null object\n",
      "gender                     300400 non-null int64\n",
      "dtypes: float64(4), int64(3), object(8)\n",
      "memory usage: 36.7+ MB\n"
     ]
    }
   ],
   "source": [
    "df.dropna(inplace=True)\n",
    "df['start station id'] = df['start station id'].apply(str)\n",
    "df['end station id'] = df['end station id'].apply(str)\n",
    "df.info()"
   ]
  },
  {
   "cell_type": "markdown",
   "metadata": {},
   "source": [
    "<h1>STEP 3: Write a function that returns a graph given a citibike data frame</h1> \n",
    "<li>Your function should return two things:\n",
    "<ol>\n",
    "<li>a graph\n",
    "<li>a dictionary with station ids as the key and station name as the value\n",
    "</ol>\n",
    "<li>The graph should contain \n",
    "<ol>\n",
    "<li>nodes (station ids)\n",
    "<li>edges (station id, station id)\n",
    "<li>edge data \n",
    "<ol>\n",
    "<li>count: number of trips on the edge\n",
    "<li>time: average duration - pickup to dropoff - on that edge\n",
    "</ol>\n",
    "</ol>\n",
    "<li><b>Note:</b> the edge (x1,y1) is the same as (y1,x1) even though the start station ids and end station ids are flipped in the dataframe"
   ]
  },
  {
   "cell_type": "code",
   "execution_count": 15,
   "metadata": {},
   "outputs": [
    {
     "data": {
      "text/plain": [
       "'2009'"
      ]
     },
     "execution_count": 15,
     "metadata": {},
     "output_type": "execute_result"
    }
   ],
   "source": [
    "G= nx.Graph()\n",
    "row = df.iloc[0]\n",
    "start = row['start station id']\n",
    "start"
   ]
  },
  {
   "cell_type": "code",
   "execution_count": 5,
   "metadata": {
    "collapsed": true
   },
   "outputs": [],
   "source": [
    "def get_citibike_graph(df):\n",
    "    import networkx as nx\n",
    "    G = nx.Graph()\n",
    "    node_names = dict()\n",
    "    edges = dict()\n",
    "    for ind in df.index:\n",
    "        row = df.loc[ind]\n",
    "        start = row['start station id']\n",
    "        end = row['end station id']\n",
    "        node_names[start] = row['start station name']\n",
    "        node_names[end] = row['end station name']\n",
    "        #Arrange start and end in ascending order (or edges dict won't match)\n",
    "        start,end = max(start,end),min(start,end)\n",
    "        time = row['tripduration']\n",
    "        if edges.get((start,end)):\n",
    "            cnt = edges[(start,end)][0]+1\n",
    "            time = time + edges[(start,end)][1]           \n",
    "            edges[(start,end)] = (cnt,time)\n",
    "        else:\n",
    "            edges[(start,end)] = (1,time)\n",
    "        G.add_edge(start,end,trips=edges[(start,end)][0],time=edges[(start,end)][1]/edges[(start,end)][0])\n",
    "    #YOUR CODE GOES HERE\n",
    "    return G,node_names\n",
    "    "
   ]
  },
  {
   "cell_type": "markdown",
   "metadata": {},
   "source": [
    "<h1>STEP 4: Create the following graphs using the function above</h1>\n",
    "<li>G: A graph of all the data in the dataframe\n",
    "<li>m_G: A graph containing only data from male riders\n",
    "<li>f_G: A graph containing only data from female riders\n",
    "<li>Note: for m_G and f_G you will need to extract data from the dataframe"
   ]
  },
  {
   "cell_type": "code",
   "execution_count": 6,
   "metadata": {
    "collapsed": true
   },
   "outputs": [],
   "source": [
    "G,nodes=get_citibike_graph(df)"
   ]
  },
  {
   "cell_type": "code",
   "execution_count": 7,
   "metadata": {
    "collapsed": true
   },
   "outputs": [],
   "source": [
    "maledf = df[df['gender']==1]\n",
    "femaledf = df[df['gender']==2]\n",
    "f_G = get_citibike_graph(femaledf)[0]\n",
    "m_G = get_citibike_graph(maledf)[0]"
   ]
  }
 ],
 "metadata": {
  "kernelspec": {
   "display_name": "Python 3",
   "language": "python",
   "name": "python3"
  },
  "language_info": {
   "codemirror_mode": {
    "name": "ipython",
    "version": 3
   },
   "file_extension": ".py",
   "mimetype": "text/x-python",
   "name": "python",
   "nbconvert_exporter": "python",
   "pygments_lexer": "ipython3",
   "version": "3.7.0"
  }
 },
 "nbformat": 4,
 "nbformat_minor": 2
}
