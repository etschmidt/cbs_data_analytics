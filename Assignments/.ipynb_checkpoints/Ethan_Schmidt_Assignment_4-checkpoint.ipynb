{
 "cells": [
  {
   "cell_type": "markdown",
   "metadata": {},
   "source": [
    "<h1>Numpy and Pandas Home Assignment</h1>\n",
    "In this assignment, we will use pandas and numpy to do some fairly basic analysis on equities."
   ]
  },
  {
   "cell_type": "markdown",
   "metadata": {},
   "source": [
    "<h3>Imports</h3>"
   ]
  },
  {
   "cell_type": "code",
   "execution_count": 6,
   "metadata": {},
   "outputs": [],
   "source": [
    "import datetime\n",
    "import numpy as np\n",
    "import pandas as pd\n",
    "%matplotlib inline\n",
    "import quandl # I used quandl because yahoo actions were depreciated\n",
    "pd.core.common.is_list_like = pd.api.types.is_list_like\n",
    "import pandas_datareader.data as web\n",
    "# import fix_yahoo_finance as yf\n",
    "quandl.ApiConfig.api_key = '4aMNMqjBPzy7zzuaKFnB'"
   ]
  },
  {
   "cell_type": "markdown",
   "metadata": {},
   "source": [
    "<h3>Get data on the following four stocks from yahoo finance</h3>\n",
    "<li>MS, GS, JPM, C\n",
    "<li>Use the date range 2013/1/1/ to 2018/9/24"
   ]
  },
  {
   "cell_type": "code",
   "execution_count": 9,
   "metadata": {},
   "outputs": [
    {
     "name": "stdout",
     "output_type": "stream",
     "text": [
      "     ticker       date   open   high    low  close      volume  ex-dividend  \\\n",
      "None                                                                          \n",
      "0        MS 2018-03-27  54.53  54.90  52.63  53.15  12209206.0          0.0   \n",
      "1        MS 2018-03-26  53.33  54.43  52.64  54.30  11824606.0          0.0   \n",
      "2        MS 2018-03-23  54.91  54.98  51.99  52.07  16396181.0          0.0   \n",
      "3        MS 2018-03-22  56.31  56.67  54.51  54.64  14593391.0          0.0   \n",
      "4        MS 2018-03-21  57.33  58.17  56.89  57.11   8417244.0          0.0   \n",
      "\n",
      "      split_ratio  adj_open  adj_high  adj_low  adj_close  adj_volume  \n",
      "None                                                                   \n",
      "0             1.0     54.53     54.90    52.63      53.15  12209206.0  \n",
      "1             1.0     53.33     54.43    52.64      54.30  11824606.0  \n",
      "2             1.0     54.91     54.98    51.99      52.07  16396181.0  \n",
      "3             1.0     56.31     56.67    54.51      54.64  14593391.0  \n",
      "4             1.0     57.33     58.17    56.89      57.11   8417244.0  \n"
     ]
    }
   ],
   "source": [
    "all_data = quandl.get_table('WIKI/PRICES', ticker = ['MS', 'GS', 'JPM', 'C'], \n",
    "                        date = { 'gte': '2013-01-01', 'lte': '2018-09-24' }, \n",
    "                        paginate=True)\n",
    "\n",
    "print(all_data.head())"
   ]
  },
  {
   "cell_type": "markdown",
   "metadata": {},
   "source": [
    "<h3>Compute the cross correlation coefficients on the stocks</h3>\n",
    "<li>Create a df 'rets' with the one day percentage changes\n",
    "<li>Calculate cross correlations on the rets df"
   ]
  },
  {
   "cell_type": "code",
   "execution_count": 23,
   "metadata": {},
   "outputs": [
    {
     "data": {
      "text/html": [
       "<div>\n",
       "<style scoped>\n",
       "    .dataframe tbody tr th:only-of-type {\n",
       "        vertical-align: middle;\n",
       "    }\n",
       "\n",
       "    .dataframe tbody tr th {\n",
       "        vertical-align: top;\n",
       "    }\n",
       "\n",
       "    .dataframe thead th {\n",
       "        text-align: right;\n",
       "    }\n",
       "</style>\n",
       "<table border=\"1\" class=\"dataframe\">\n",
       "  <thead>\n",
       "    <tr style=\"text-align: right;\">\n",
       "      <th>ticker</th>\n",
       "      <th>C</th>\n",
       "      <th>GS</th>\n",
       "      <th>JPM</th>\n",
       "      <th>MS</th>\n",
       "    </tr>\n",
       "    <tr>\n",
       "      <th>ticker</th>\n",
       "      <th></th>\n",
       "      <th></th>\n",
       "      <th></th>\n",
       "      <th></th>\n",
       "    </tr>\n",
       "  </thead>\n",
       "  <tbody>\n",
       "    <tr>\n",
       "      <th>C</th>\n",
       "      <td>1.000000</td>\n",
       "      <td>0.795786</td>\n",
       "      <td>0.854757</td>\n",
       "      <td>0.813932</td>\n",
       "    </tr>\n",
       "    <tr>\n",
       "      <th>GS</th>\n",
       "      <td>0.795786</td>\n",
       "      <td>1.000000</td>\n",
       "      <td>0.814197</td>\n",
       "      <td>0.842153</td>\n",
       "    </tr>\n",
       "    <tr>\n",
       "      <th>JPM</th>\n",
       "      <td>0.854757</td>\n",
       "      <td>0.814197</td>\n",
       "      <td>1.000000</td>\n",
       "      <td>0.798226</td>\n",
       "    </tr>\n",
       "    <tr>\n",
       "      <th>MS</th>\n",
       "      <td>0.813932</td>\n",
       "      <td>0.842153</td>\n",
       "      <td>0.798226</td>\n",
       "      <td>1.000000</td>\n",
       "    </tr>\n",
       "  </tbody>\n",
       "</table>\n",
       "</div>"
      ],
      "text/plain": [
       "ticker         C        GS       JPM        MS\n",
       "ticker                                        \n",
       "C       1.000000  0.795786  0.854757  0.813932\n",
       "GS      0.795786  1.000000  0.814197  0.842153\n",
       "JPM     0.854757  0.814197  1.000000  0.798226\n",
       "MS      0.813932  0.842153  0.798226  1.000000"
      ]
     },
     "execution_count": 23,
     "metadata": {},
     "output_type": "execute_result"
    }
   ],
   "source": [
    "# Isolate the `Adj Close` values and transform the DataFrame\n",
    "daily_close_px = all_data.pivot(index='date', columns='ticker', values='adj_close')\n",
    "\n",
    "# Calculate the daily percentage change for `daily_close_px`\n",
    "rets = daily_close_px.pct_change()\n",
    "\n",
    "# correlate\n",
    "rets.corr(method='pearson', min_periods=1)"
   ]
  },
  {
   "cell_type": "markdown",
   "metadata": {},
   "source": [
    "<h3>Select a pair of stocks to trade</h3>\n",
    "<li>Choose the pair with the highest correlation\n",
    "<li>You can just eyeball the result and pick the highest correlation pairs\n",
    "<li>Create a new df 'pairs' with the returns columns of the highest correlation pairs"
   ]
  },
  {
   "cell_type": "code",
   "execution_count": 54,
   "metadata": {},
   "outputs": [
    {
     "name": "stdout",
     "output_type": "stream",
     "text": [
      "ticker             C       JPM\n",
      "date                          \n",
      "2013-01-02       NaN       NaN\n",
      "2013-01-03  0.003394 -0.002015\n",
      "2013-01-04  0.025122  0.017725\n",
      "2013-01-07  0.000947  0.001102\n",
      "2013-01-08 -0.000235  0.001982\n"
     ]
    }
   ],
   "source": [
    "# it appears that GS and JPM are more correlated, but I'll use what fits the words below\n",
    "pairs = rets[['C', 'JPM']]\n",
    "\n",
    "print(pairs.head())\n",
    "# print(pairs['C'])"
   ]
  },
  {
   "cell_type": "markdown",
   "metadata": {},
   "source": [
    "<h3>Calculate the mean and std dev of the columns (returns of the two stocks)</h3>\n",
    "<li>Note that line 1 contains a NaN. You'll have to get rid of this line\n",
    "<li>df.describe() returns summary stats for all cols in a dataframe. You can use this to extract means and standard deviations"
   ]
  },
  {
   "cell_type": "code",
   "execution_count": 27,
   "metadata": {},
   "outputs": [
    {
     "name": "stdout",
     "output_type": "stream",
     "text": [
      "0.0150407028140531 0.012887162087069495 0.0005347629278196414 0.000866389513644403\n"
     ]
    }
   ],
   "source": [
    "new_df = rets[['C','JPM']].iloc[1:-1]\n",
    "c_std = new_df.describe()['C']['std']\n",
    "j_std = new_df.describe()['JPM']['std']\n",
    "c_mean = new_df.describe()['C']['mean']\n",
    "j_mean = new_df.describe()['JPM']['mean']\n",
    "\n",
    "print(c_std, j_std, c_mean, j_mean)"
   ]
  },
  {
   "cell_type": "markdown",
   "metadata": {},
   "source": [
    "<h3>Create a new column \"Long_JPM_Short_C\"</h3>\n",
    "<li>If the return of C is greater than its mean + 0.25* std\n",
    "<li> AND\n",
    "<li>If the return of JPM is less than its mean - 0.25*std\n",
    "<li>The value in this col should be True or False"
   ]
  },
  {
   "cell_type": "code",
   "execution_count": 78,
   "metadata": {},
   "outputs": [
    {
     "ename": "ValueError",
     "evalue": "The truth value of a Series is ambiguous. Use a.empty, a.bool(), a.item(), a.any() or a.all().",
     "output_type": "error",
     "traceback": [
      "\u001b[1;31m---------------------------------------------------------------------------\u001b[0m",
      "\u001b[1;31mValueError\u001b[0m                                Traceback (most recent call last)",
      "\u001b[1;32m<ipython-input-78-d2ff9373b088>\u001b[0m in \u001b[0;36m<module>\u001b[1;34m()\u001b[0m\n\u001b[0;32m      1\u001b[0m \u001b[1;33m\u001b[0m\u001b[0m\n\u001b[0;32m      2\u001b[0m \u001b[1;31m# print(c)\u001b[0m\u001b[1;33m\u001b[0m\u001b[1;33m\u001b[0m\u001b[0m\n\u001b[1;32m----> 3\u001b[1;33m \u001b[0mnew_df\u001b[0m\u001b[1;33m[\u001b[0m\u001b[1;34m'Long_JPM_Short_C'\u001b[0m\u001b[1;33m]\u001b[0m \u001b[1;33m=\u001b[0m \u001b[1;33m[\u001b[0m\u001b[1;32mTrue\u001b[0m \u001b[1;32mif\u001b[0m \u001b[0mnew_df\u001b[0m\u001b[1;33m[\u001b[0m\u001b[1;34m'C'\u001b[0m\u001b[1;33m]\u001b[0m \u001b[1;33m>\u001b[0m \u001b[0mc_mean\u001b[0m\u001b[1;33m+\u001b[0m\u001b[1;33m(\u001b[0m\u001b[1;36m0.25\u001b[0m\u001b[1;33m*\u001b[0m\u001b[0mc_std\u001b[0m\u001b[1;33m)\u001b[0m \u001b[1;32melse\u001b[0m \u001b[1;32mFalse\u001b[0m \u001b[1;32mfor\u001b[0m \u001b[0mi\u001b[0m \u001b[1;32min\u001b[0m \u001b[0mrange\u001b[0m\u001b[1;33m(\u001b[0m\u001b[0mlen\u001b[0m\u001b[1;33m(\u001b[0m\u001b[0mnew_df\u001b[0m\u001b[1;33m)\u001b[0m\u001b[1;33m)\u001b[0m\u001b[1;33m]\u001b[0m\u001b[1;33m\u001b[0m\u001b[0m\n\u001b[0m",
      "\u001b[1;32m<ipython-input-78-d2ff9373b088>\u001b[0m in \u001b[0;36m<listcomp>\u001b[1;34m(.0)\u001b[0m\n\u001b[0;32m      1\u001b[0m \u001b[1;33m\u001b[0m\u001b[0m\n\u001b[0;32m      2\u001b[0m \u001b[1;31m# print(c)\u001b[0m\u001b[1;33m\u001b[0m\u001b[1;33m\u001b[0m\u001b[0m\n\u001b[1;32m----> 3\u001b[1;33m \u001b[0mnew_df\u001b[0m\u001b[1;33m[\u001b[0m\u001b[1;34m'Long_JPM_Short_C'\u001b[0m\u001b[1;33m]\u001b[0m \u001b[1;33m=\u001b[0m \u001b[1;33m[\u001b[0m\u001b[1;32mTrue\u001b[0m \u001b[1;32mif\u001b[0m \u001b[0mnew_df\u001b[0m\u001b[1;33m[\u001b[0m\u001b[1;34m'C'\u001b[0m\u001b[1;33m]\u001b[0m \u001b[1;33m>\u001b[0m \u001b[0mc_mean\u001b[0m\u001b[1;33m+\u001b[0m\u001b[1;33m(\u001b[0m\u001b[1;36m0.25\u001b[0m\u001b[1;33m*\u001b[0m\u001b[0mc_std\u001b[0m\u001b[1;33m)\u001b[0m \u001b[1;32melse\u001b[0m \u001b[1;32mFalse\u001b[0m \u001b[1;32mfor\u001b[0m \u001b[0mi\u001b[0m \u001b[1;32min\u001b[0m \u001b[0mrange\u001b[0m\u001b[1;33m(\u001b[0m\u001b[0mlen\u001b[0m\u001b[1;33m(\u001b[0m\u001b[0mnew_df\u001b[0m\u001b[1;33m)\u001b[0m\u001b[1;33m)\u001b[0m\u001b[1;33m]\u001b[0m\u001b[1;33m\u001b[0m\u001b[0m\n\u001b[0m",
      "\u001b[1;32mc:\\users\\ethan\\appdata\\local\\programs\\python\\python37\\lib\\site-packages\\pandas\\core\\generic.py\u001b[0m in \u001b[0;36m__nonzero__\u001b[1;34m(self)\u001b[0m\n\u001b[0;32m   1574\u001b[0m         raise ValueError(\"The truth value of a {0} is ambiguous. \"\n\u001b[0;32m   1575\u001b[0m                          \u001b[1;34m\"Use a.empty, a.bool(), a.item(), a.any() or a.all().\"\u001b[0m\u001b[1;33m\u001b[0m\u001b[0m\n\u001b[1;32m-> 1576\u001b[1;33m                          .format(self.__class__.__name__))\n\u001b[0m\u001b[0;32m   1577\u001b[0m \u001b[1;33m\u001b[0m\u001b[0m\n\u001b[0;32m   1578\u001b[0m     \u001b[0m__bool__\u001b[0m \u001b[1;33m=\u001b[0m \u001b[0m__nonzero__\u001b[0m\u001b[1;33m\u001b[0m\u001b[0m\n",
      "\u001b[1;31mValueError\u001b[0m: The truth value of a Series is ambiguous. Use a.empty, a.bool(), a.item(), a.any() or a.all()."
     ]
    }
   ],
   "source": [
    "\n",
    "# print(c)\n",
    "new_df['Long_JPM_Short_C'] = [True if new_df['C'] > c_mean+(0.25*c_std) else False for i in range(len(new_df))] "
   ]
  },
  {
   "cell_type": "markdown",
   "metadata": {},
   "source": [
    "<h3>Create a new column \"Long_C_Short_JPM\"</h3>\n",
    "<li>If the return of JPM is greater than its mean + 0.25* std\n",
    "<li> AND\n",
    "<li>If the return of C is less than its mean - 0.25*std\n",
    "<li>The value in this col should be True or False"
   ]
  },
  {
   "cell_type": "code",
   "execution_count": 116,
   "metadata": {
    "collapsed": true
   },
   "outputs": [],
   "source": []
  },
  {
   "cell_type": "markdown",
   "metadata": {},
   "source": [
    "<h3>Create a new column \"Trade_return\"</h3>\n",
    "<li>If Long_JPM_Short_C is True and Long_C_Short_JPM is False, the value of this column should be the return on JPM minus the return on C\n",
    "<li>If Long_JPM_Short_C is False and Long_C_Short_JPM is True, the value of this column should be the return on C minus the return on JPM\n",
    "<li>Otherwise the value should be zero"
   ]
  },
  {
   "cell_type": "code",
   "execution_count": 131,
   "metadata": {
    "collapsed": true
   },
   "outputs": [],
   "source": [
    "pairs['Trade_return'] = \n",
    "# Total = df['MyColumn'].sum()\n",
    "# print (Total)\n",
    "# 319"
   ]
  },
  {
   "cell_type": "markdown",
   "metadata": {},
   "source": [
    "<h3>Calculate the sum of this new column</h3>\n",
    "<li>Are you going to get rich?"
   ]
  },
  {
   "cell_type": "code",
   "execution_count": null,
   "metadata": {
    "collapsed": true
   },
   "outputs": [],
   "source": []
  }
 ],
 "metadata": {
  "kernelspec": {
   "display_name": "Python 3",
   "language": "python",
   "name": "python3"
  },
  "language_info": {
   "codemirror_mode": {
    "name": "ipython",
    "version": 3
   },
   "file_extension": ".py",
   "mimetype": "text/x-python",
   "name": "python",
   "nbconvert_exporter": "python",
   "pygments_lexer": "ipython3",
   "version": "3.7.0"
  }
 },
 "nbformat": 4,
 "nbformat_minor": 2
}
