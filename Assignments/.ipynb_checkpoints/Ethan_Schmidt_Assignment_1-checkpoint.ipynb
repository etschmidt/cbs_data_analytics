{
 "cells": [
  {
   "cell_type": "markdown",
   "metadata": {},
   "source": [
    "<h1>Problem 1: Part 1</h1>"
   ]
  },
  {
   "cell_type": "code",
   "execution_count": 1,
   "metadata": {},
   "outputs": [],
   "source": [
    "def preceding(char):\n",
    "    coded_char = '' #Your code will figure out what the value of coded_char should be\n",
    "    # edge cases\n",
    "    if char == 'a':\n",
    "        coded_char = 'z'\n",
    "    elif char == 'A':\n",
    "        coded_char = 'Z'\n",
    "    # lowercase\n",
    "    elif ord(char) in range(98,122):\n",
    "        coded_char = chr(ord(char) - 1)\n",
    "    # uppercase\n",
    "    elif ord(char) in range(65,90):\n",
    "        coded_char = chr(ord(char) - 1)\n",
    "    # special chars\n",
    "    else:\n",
    "        coded_char = char\n",
    "    \n",
    "    return coded_char"
   ]
  },
  {
   "cell_type": "code",
   "execution_count": 2,
   "metadata": {},
   "outputs": [
    {
     "name": "stdout",
     "output_type": "stream",
     "text": [
      "z\n",
      "a\n",
      "!\n"
     ]
    }
   ],
   "source": [
    "print(preceding('a')) #Should print z\n",
    "print(preceding('b')) #Should print a\n",
    "print(preceding('!')) #Should print !"
   ]
  },
  {
   "cell_type": "markdown",
   "metadata": {},
   "source": [
    "<h1>Problem 1: Part 2</h1>\n"
   ]
  },
  {
   "cell_type": "code",
   "execution_count": 3,
   "metadata": {},
   "outputs": [],
   "source": [
    "def succeeding(char):\n",
    "    coded_char = '' #Your code will figure out what the value of coded_char should be\n",
    "    if char == 'z':\n",
    "        coded_char = 'a'\n",
    "    elif char == 'Z':\n",
    "        coded_char = 'A'\n",
    "    elif ord(char) in range(65,89):\n",
    "        coded_char = chr(ord(char) + 1)\n",
    "    elif ord(char) in range(97,121):\n",
    "        coded_char = chr(ord(char) + 1)\n",
    "    else:\n",
    "        coded_char = char\n",
    "    \n",
    "    return coded_char    "
   ]
  },
  {
   "cell_type": "code",
   "execution_count": 4,
   "metadata": {},
   "outputs": [
    {
     "name": "stdout",
     "output_type": "stream",
     "text": [
      "a\n",
      "c\n",
      "!\n"
     ]
    }
   ],
   "source": [
    "print(succeeding('z')) #Should print a\n",
    "print(succeeding('b')) #Should print c\n",
    "print(succeeding('!')) #Should print !"
   ]
  },
  {
   "cell_type": "markdown",
   "metadata": {},
   "source": [
    "<h1>Problem 1: Part 3</h1>"
   ]
  },
  {
   "cell_type": "code",
   "execution_count": 5,
   "metadata": {},
   "outputs": [],
   "source": [
    "def message_coder(message_string,function):\n",
    "    coded_message = ''\n",
    "    coded_list = [] #empty list to put each characer from string\n",
    "    \n",
    "    #break up string by character and iterate through\n",
    "    for char in message_string:\n",
    "        if function == preceding:\n",
    "#             print(function)\n",
    "            char = preceding(char)\n",
    "        elif function == succeeding:\n",
    "#             print(function)\n",
    "            char = succeeding(char)\n",
    "        coded_list.extend(char)\n",
    "    \n",
    "    # reconstitute list into string\n",
    "    coded_message = ''.join(coded_list)    \n",
    "    return coded_message\n",
    "\n",
    "# message_coder('test',preceding)"
   ]
  },
  {
   "cell_type": "markdown",
   "metadata": {},
   "source": [
    "<h3>Test <b>preceding</b> and <b>succeeding</b> and <b>message_coder</h3>"
   ]
  },
  {
   "cell_type": "code",
   "execution_count": 6,
   "metadata": {},
   "outputs": [
    {
     "name": "stdout",
     "output_type": "stream",
     "text": [
      "gdkkn cnkkx zdaqz!\n",
      "ifmmp epmmy afcsb!\n"
     ]
    }
   ],
   "source": [
    "print(message_coder('hello dolly zebra!',preceding))# prints 'gdkkn cnkkx ydaqz!’\n",
    "\n",
    "print(message_coder('hello dolly zebra!',succeeding))# prints 'ifmmp epmmz afcsb!’"
   ]
  },
  {
   "cell_type": "markdown",
   "metadata": {},
   "source": [
    "<h1>Problem 2: Word Count</h2>"
   ]
  },
  {
   "cell_type": "code",
   "execution_count": 7,
   "metadata": {},
   "outputs": [],
   "source": [
    "def word_distribution(text_string,word_list=[]):\n",
    "    frequency_dict = dict()\n",
    "    words = text_string.lower().split() # split text and make lowercase\n",
    "    word_list = [x.lower() for x in word_list] # make each word in list lowercase\n",
    "    \n",
    "    # if word_list exists\n",
    "    if len(word_list) > 0:\n",
    "        for word in word_list:\n",
    "            frequency_dict[word] = 0 #initiate word_list items in dict\n",
    "        for word in words:\n",
    "            if ord(word[-1]) not in range(97,122): #checks end of words for special chars\n",
    "                word = word[:-1] # removes special chars\n",
    "            if word in frequency_dict:\n",
    "                frequency_dict[word] += 1 # adds each instance of word\n",
    "    # if not word_list\n",
    "    else:\n",
    "        for word in words:\n",
    "            if ord(word[-1]) not in range(97,122):\n",
    "                word = word[:-1]\n",
    "            if word in frequency_dict:\n",
    "                frequency_dict[word] += 1\n",
    "            else:\n",
    "                frequency_dict[word] = 1 # initiates each new word at 1\n",
    "    \n",
    "    return frequency_dict"
   ]
  },
  {
   "cell_type": "markdown",
   "metadata": {},
   "source": [
    "<h3>Test <b>word_distribution</b></h3>\n"
   ]
  },
  {
   "cell_type": "code",
   "execution_count": 8,
   "metadata": {},
   "outputs": [
    {
     "name": "stdout",
     "output_type": "stream",
     "text": [
      "{'hello': 2, 'how': 1, 'are': 1, 'you': 2, 'please': 1, 'say': 1, 'if': 1, 'don’t': 1, 'love': 1, 'me': 1}\n"
     ]
    }
   ],
   "source": [
    "text_string = \"Hello. How are you? Please say hello if you don’t love me!\"\n",
    "print(word_distribution(text_string)) #should print {‘hello’: 2, ‘how’:1, ‘are’:1, ‘you’:2,’please’:1, “don’t”: 1 …}"
   ]
  },
  {
   "cell_type": "code",
   "execution_count": 9,
   "metadata": {},
   "outputs": [
    {
     "name": "stdout",
     "output_type": "stream",
     "text": [
      "{'i': 3, 'saw': 1, 'britain': 0}\n"
     ]
    }
   ],
   "source": [
    "text_string = 'I came, I saw, I conquered!'\n",
    "\n",
    "print(word_distribution(text_string,word_list=['I','saw','Britain'])) # prints {‘i’:3,’saw’:1,’britain':0}"
   ]
  }
 ],
 "metadata": {
  "kernelspec": {
   "display_name": "Python 3",
   "language": "python",
   "name": "python3"
  },
  "language_info": {
   "codemirror_mode": {
    "name": "ipython",
    "version": 3
   },
   "file_extension": ".py",
   "mimetype": "text/x-python",
   "name": "python",
   "nbconvert_exporter": "python",
   "pygments_lexer": "ipython3",
   "version": "3.7.0"
  }
 },
 "nbformat": 4,
 "nbformat_minor": 2
}
