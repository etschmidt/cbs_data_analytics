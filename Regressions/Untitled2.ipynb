{
 "cells": [
  {
   "cell_type": "code",
   "execution_count": 13,
   "metadata": {},
   "outputs": [],
   "source": [
    "import pandas as pd\n",
    "import statsmodels.formula.api as smf\n",
    "import matplotlib.pyplot as plt\n",
    "%matplotlib inline"
   ]
  },
  {
   "cell_type": "code",
   "execution_count": 14,
   "metadata": {},
   "outputs": [
    {
     "data": {
      "text/html": [
       "<div>\n",
       "<style scoped>\n",
       "    .dataframe tbody tr th:only-of-type {\n",
       "        vertical-align: middle;\n",
       "    }\n",
       "\n",
       "    .dataframe tbody tr th {\n",
       "        vertical-align: top;\n",
       "    }\n",
       "\n",
       "    .dataframe thead th {\n",
       "        text-align: right;\n",
       "    }\n",
       "</style>\n",
       "<table border=\"1\" class=\"dataframe\">\n",
       "  <thead>\n",
       "    <tr style=\"text-align: right;\">\n",
       "      <th></th>\n",
       "      <th>Diam</th>\n",
       "      <th>Vol</th>\n",
       "    </tr>\n",
       "  </thead>\n",
       "  <tbody>\n",
       "    <tr>\n",
       "      <th>count</th>\n",
       "      <td>70.000000</td>\n",
       "      <td>70.000000</td>\n",
       "    </tr>\n",
       "    <tr>\n",
       "      <th>mean</th>\n",
       "      <td>11.184286</td>\n",
       "      <td>34.895714</td>\n",
       "    </tr>\n",
       "    <tr>\n",
       "      <th>std</th>\n",
       "      <td>4.132713</td>\n",
       "      <td>29.906499</td>\n",
       "    </tr>\n",
       "    <tr>\n",
       "      <th>min</th>\n",
       "      <td>4.400000</td>\n",
       "      <td>2.000000</td>\n",
       "    </tr>\n",
       "    <tr>\n",
       "      <th>25%</th>\n",
       "      <td>8.175000</td>\n",
       "      <td>14.350000</td>\n",
       "    </tr>\n",
       "    <tr>\n",
       "      <th>50%</th>\n",
       "      <td>10.800000</td>\n",
       "      <td>27.000000</td>\n",
       "    </tr>\n",
       "    <tr>\n",
       "      <th>75%</th>\n",
       "      <td>14.300000</td>\n",
       "      <td>44.725000</td>\n",
       "    </tr>\n",
       "    <tr>\n",
       "      <th>max</th>\n",
       "      <td>23.400000</td>\n",
       "      <td>163.500000</td>\n",
       "    </tr>\n",
       "  </tbody>\n",
       "</table>\n",
       "</div>"
      ],
      "text/plain": [
       "            Diam         Vol\n",
       "count  70.000000   70.000000\n",
       "mean   11.184286   34.895714\n",
       "std     4.132713   29.906499\n",
       "min     4.400000    2.000000\n",
       "25%     8.175000   14.350000\n",
       "50%    10.800000   27.000000\n",
       "75%    14.300000   44.725000\n",
       "max    23.400000  163.500000"
      ]
     },
     "execution_count": 14,
     "metadata": {},
     "output_type": "execute_result"
    }
   ],
   "source": [
    "trees = pd.read_csv('shortleaf.csv')\n",
    "trees.describe()"
   ]
  },
  {
   "cell_type": "code",
   "execution_count": 15,
   "metadata": {},
   "outputs": [
    {
     "data": {
      "image/png": "[encoded data removed]",
      "text/plain": [
       "<Figure size 432x288 with 1 Axes>"
      ]
     },
     "metadata": {},
     "output_type": "display_data"
    }
   ],
   "source": [
    "plt.scatter(trees['Diam'], trees['Vol'])\n",
    "plt.title('Shortleaf Pines')\n",
    "plt.xlabel('Diameter')\n",
    "plt.ylabel('Volume')\n",
    "plt.show()"
   ]
  },
  {
   "cell_type": "markdown",
   "metadata": {},
   "source": [
    "There appears to be a strong positive correlation between the diameter of a pine and its volume"
   ]
  },
  {
   "cell_type": "code",
   "execution_count": 18,
   "metadata": {},
   "outputs": [
    {
     "name": "stdout",
     "output_type": "stream",
     "text": [
      "                            OLS Regression Results                            \n",
      "==============================================================================\n",
      "Dep. Variable:                    Vol   R-squared:                       0.893\n",
      "Model:                            OLS   Adj. R-squared:                  0.891\n",
      "Method:                 Least Squares   F-statistic:                     564.9\n",
      "Date:                Wed, 20 Feb 2019   Prob (F-statistic):           1.17e-34\n",
      "Time:                        11:14:49   Log-Likelihood:                -258.61\n",
      "No. Observations:                  70   AIC:                             521.2\n",
      "Df Residuals:                      68   BIC:                             525.7\n",
      "Df Model:                           1                                         \n",
      "Covariance Type:            nonrobust                                         \n",
      "==============================================================================\n",
      "                 coef    std err          t      P>|t|      [0.025      0.975]\n",
      "------------------------------------------------------------------------------\n",
      "Intercept    -41.5681      3.427    -12.130      0.000     -48.406     -34.730\n",
      "Diam           6.8367      0.288     23.767      0.000       6.263       7.411\n",
      "==============================================================================\n",
      "Omnibus:                       29.509   Durbin-Watson:                   0.562\n",
      "Prob(Omnibus):                  0.000   Jarque-Bera (JB):               85.141\n",
      "Skew:                           1.240   Prob(JB):                     3.25e-19\n",
      "Kurtosis:                       7.800   Cond. No.                         34.8\n",
      "==============================================================================\n",
      "\n",
      "Warnings:\n",
      "[1] Standard Errors assume that the covariance matrix of the errors is correctly specified.\n"
     ]
    }
   ],
   "source": [
    "print(smf.ols('Vol ~ Diam', data=trees).fit().summary())"
   ]
  },
  {
   "cell_type": "markdown",
   "metadata": {},
   "source": [
    "For every additional inch of diameter, the a typical pine can expect to have almost 7 inches of volume"
   ]
  },
  {
   "cell_type": "markdown",
   "metadata": {},
   "source": [
    "The p-values appear to be significant as they are less than 0.000; since the $R^2$ is .893 then it appears that almost 90% of the volume is explained through this model"
   ]
  },
  {
   "cell_type": "markdown",
   "metadata": {},
   "source": [
    "Something obout internal validity"
   ]
  },
  {
   "cell_type": "code",
   "execution_count": 20,
   "metadata": {},
   "outputs": [],
   "source": [
    "# transforming to add square of Diameter\n",
    "trees['Diam_sq'] = trees['Diam']**2"
   ]
  },
  {
   "cell_type": "code",
   "execution_count": 21,
   "metadata": {},
   "outputs": [
    {
     "name": "stdout",
     "output_type": "stream",
     "text": [
      "                            OLS Regression Results                            \n",
      "==============================================================================\n",
      "Dep. Variable:                    Vol   R-squared:                       0.971\n",
      "Model:                            OLS   Adj. R-squared:                  0.970\n",
      "Method:                 Least Squares   F-statistic:                     1125.\n",
      "Date:                Wed, 20 Feb 2019   Prob (F-statistic):           2.84e-52\n",
      "Time:                        11:24:35   Log-Likelihood:                -212.68\n",
      "No. Observations:                  70   AIC:                             431.4\n",
      "Df Residuals:                      67   BIC:                             438.1\n",
      "Df Model:                           2                                         \n",
      "Covariance Type:            nonrobust                                         \n",
      "==============================================================================\n",
      "                 coef    std err          t      P>|t|      [0.025      0.975]\n",
      "------------------------------------------------------------------------------\n",
      "Intercept      5.7527      3.940      1.460      0.149      -2.111      13.616\n",
      "Diam          -2.2603      0.691     -3.271      0.002      -3.640      -0.881\n",
      "Diam_sq        0.3835      0.028     13.486      0.000       0.327       0.440\n",
      "==============================================================================\n",
      "Omnibus:                        5.921   Durbin-Watson:                   1.562\n",
      "Prob(Omnibus):                  0.052   Jarque-Bera (JB):                5.405\n",
      "Skew:                          -0.488   Prob(JB):                       0.0670\n",
      "Kurtosis:                       3.949   Cond. No.                     1.13e+03\n",
      "==============================================================================\n",
      "\n",
      "Warnings:\n",
      "[1] Standard Errors assume that the covariance matrix of the errors is correctly specified.\n",
      "[2] The condition number is large, 1.13e+03. This might indicate that there are\n",
      "strong multicollinearity or other numerical problems.\n"
     ]
    }
   ],
   "source": [
    "print(smf.ols('Vol ~ Diam + Diam_sq', data=trees).fit().summary())"
   ]
  },
  {
   "cell_type": "markdown",
   "metadata": {},
   "source": [
    "This transformation does considerable better, as %97 percent of the Volume s explained by the model"
   ]
  },
  {
   "cell_type": "markdown",
   "metadata": {},
   "source": [
    "The coefficients of the transformed model dictate that for evey squared inch of diameter, the volume increases .83 cubic feet adn this is slightly offset by minus 2.2 $ft^3$ for every actual inch of diamter"
   ]
  },
  {
   "cell_type": "markdown",
   "metadata": {},
   "source": [
    "More data in terms of sample size would not necessarily increase the efficiency of the model, but more data on the existing data, such as age of tree or canopy size, would potentially increase the $R^2$"
   ]
  },
  {
   "cell_type": "markdown",
   "metadata": {},
   "source": [
    "#### \"Would it be appropriate to prediction the expectation for ​Y​ when diameter of the tree = 27?\" <br>\n",
    "I have no idea what this means, but I'll try to answer"
   ]
  },
  {
   "cell_type": "code",
   "execution_count": 27,
   "metadata": {},
   "outputs": [
    {
     "data": {
      "text/plain": [
       "(5.752723803032126, -2.260319998408594, 0.3834673451547699, 27)"
      ]
     },
     "execution_count": 27,
     "metadata": {},
     "output_type": "execute_result"
    }
   ],
   "source": [
    "reg = smf.ols('Vol ~ Diam + Diam_sq', data=trees).fit()\n",
    "Y_i, X_0, X_1 = reg.params[0], reg.params[1], reg.params[2]\n",
    "Diam = 27"
   ]
  },
  {
   "cell_type": "code",
   "execution_count": 28,
   "metadata": {},
   "outputs": [
    {
     "data": {
      "text/plain": [
       "224.27177846382733"
      ]
     },
     "execution_count": 28,
     "metadata": {},
     "output_type": "execute_result"
    }
   ],
   "source": [
    "y_hat = Y_i + X_0*(Diam) + X_1*(Diam**2)\n",
    "y_hat # predicted tree volume"
   ]
  },
  {
   "cell_type": "markdown",
   "metadata": {},
   "source": [
    "This seems reasonable"
   ]
  }
 ],
 "metadata": {
  "kernelspec": {
   "display_name": "Python 3",
   "language": "python",
   "name": "python3"
  },
  "language_info": {
   "codemirror_mode": {
    "name": "ipython",
    "version": 3
   },
   "file_extension": ".py",
   "mimetype": "text/x-python",
   "name": "python",
   "nbconvert_exporter": "python",
   "pygments_lexer": "ipython3",
   "version": "3.7.0"
  }
 },
 "nbformat": 4,
 "nbformat_minor": 2
}
