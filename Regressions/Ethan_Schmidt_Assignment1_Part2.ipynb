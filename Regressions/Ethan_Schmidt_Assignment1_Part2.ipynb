{
 "cells": [
  {
   "cell_type": "markdown",
   "metadata": {},
   "source": [
    "# Applied Regression \n",
    "\n",
    "Columbia Graduate School of Business | Problem Set 1\n"
   ]
  },
  {
   "cell_type": "markdown",
   "metadata": {},
   "source": [
    "## Question 1 \n",
    "\n",
    "For each part (a)-(i), describe the **type** and **value** of the variable with the corresponding name:\n",
    "\n",
    "(a) `a = 2*3` \n",
    "\n",
    "(b) `b = 2.0*3`\n",
    "\n",
    "(c) `c = 'abc'`\n",
    "\n",
    "(d) `d = ['This', \"is\", 'not', \"a\", 'string']`\n",
    "\n",
    "(e) `e = d[3]`\n",
    "\n",
    "(f) `f = (1, 2, 3)`\n",
    "\n",
    "(g) `g = {1: 'Chase', 2: 'Dave', 3: 'Spencer'}` \n",
    "\n",
    "(h) `h = 'foo' + 'bar'`\n",
    "\n",
    "(i) `i = (1 != 0)`   # parens not needed, but they make code more understandable\n"
   ]
  },
  {
   "cell_type": "code",
   "execution_count": 19,
   "metadata": {},
   "outputs": [],
   "source": [
    "a = 2*3\n",
    "b = 2.0*3\n",
    "c = 'abc'\n",
    "d = ['This', \"is\", 'not', \"a\", 'string']\n",
    "e = d[3]\n",
    "f = (1, 2, 3)\n",
    "g = {1: 'Chase', 2: 'Dave', 3: 'Spencer'}\n",
    "h = 'foo' + 'bar'\n",
    "i = (1 != 0)"
   ]
  },
  {
   "cell_type": "code",
   "execution_count": 21,
   "metadata": {},
   "outputs": [
    {
     "name": "stdout",
     "output_type": "stream",
     "text": [
      "value is 6\n",
      "type is <class 'int'>\n",
      "value is 6.0\n",
      "type is <class 'float'>\n",
      "value is abc\n",
      "type is <class 'str'>\n",
      "value is ['This', 'is', 'not', 'a', 'string']\n",
      "type is <class 'list'>\n",
      "value is a\n",
      "type is <class 'str'>\n",
      "value is (1, 2, 3)\n",
      "type is <class 'tuple'>\n",
      "value is {1: 'Chase', 2: 'Dave', 3: 'Spencer'}\n",
      "type is <class 'dict'>\n",
      "value is foobar\n",
      "type is <class 'str'>\n",
      "value is True\n",
      "type is <class 'bool'>\n"
     ]
    }
   ],
   "source": [
    "stuff = [a, b, c, d, e, f, g, h, i]\n",
    "for i in stuff:\n",
    "    print(\"value is\",i)\n",
    "    print(\"type is\",type(i))"
   ]
  },
  {
   "cell_type": "markdown",
   "metadata": {},
   "source": [
    "## Question 2\n",
    "\n",
    "Take the `first` and `last` variables defined in the cell below and do the following with them:  \n",
    "\n",
    "(a) Extract the first letter of `last`.  \n",
    "\n",
    "(b) Find a method to _split_ `last` into two components at the hyphen.  \n",
    "\n",
    "(c) Define a new string variable named `combo` consisting of `first` (the first name), a space, the first letter of `last`, and a period.  \n"
   ]
  },
  {
   "cell_type": "code",
   "execution_count": 22,
   "metadata": {},
   "outputs": [],
   "source": [
    "first = 'Wilhelmina'\n",
    "last  = 'Grubbly-Plank' "
   ]
  },
  {
   "cell_type": "code",
   "execution_count": 25,
   "metadata": {},
   "outputs": [
    {
     "data": {
      "text/plain": [
       "'G'"
      ]
     },
     "execution_count": 25,
     "metadata": {},
     "output_type": "execute_result"
    }
   ],
   "source": [
    "last[0]"
   ]
  },
  {
   "cell_type": "code",
   "execution_count": 27,
   "metadata": {},
   "outputs": [
    {
     "data": {
      "text/plain": [
       "['Grubbly', 'Plank']"
      ]
     },
     "execution_count": 27,
     "metadata": {},
     "output_type": "execute_result"
    }
   ],
   "source": [
    "last.split(\"-\")"
   ]
  },
  {
   "cell_type": "code",
   "execution_count": 30,
   "metadata": {},
   "outputs": [
    {
     "name": "stdout",
     "output_type": "stream",
     "text": [
      "Wilhelmina G.\n"
     ]
    }
   ],
   "source": [
    "combo = first + \" \" + last[0] + \".\"\n",
    "print(combo)"
   ]
  }
 ],
 "metadata": {
  "kernelspec": {
   "display_name": "Python 3",
   "language": "python",
   "name": "python3"
  },
  "language_info": {
   "codemirror_mode": {
    "name": "ipython",
    "version": 3
   },
   "file_extension": ".py",
   "mimetype": "text/x-python",
   "name": "python",
   "nbconvert_exporter": "python",
   "pygments_lexer": "ipython3",
   "version": "3.7.0"
  }
 },
 "nbformat": 4,
 "nbformat_minor": 2
}
