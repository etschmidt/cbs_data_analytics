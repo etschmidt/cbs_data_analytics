{
 "cells": [
  {
   "cell_type": "markdown",
   "metadata": {},
   "source": [
    "# Applied Regression \n",
    "\n",
    "Columbia Graduate School of Business | Problem Set 1\n"
   ]
  },
  {
   "cell_type": "markdown",
   "metadata": {},
   "source": [
    "## Question 1 \n",
    "\n",
    "For each part (a)-(i), describe the **type** and **value** of the variable with the corresponding name:\n",
    "\n",
    "(a) `a = 2*3` \n",
    "\n",
    "(b) `b = 2.0*3`\n",
    "\n",
    "(c) `c = 'abc'`\n",
    "\n",
    "(d) `d = ['This', \"is\", 'not', \"a\", 'string']`\n",
    "\n",
    "(e) `e = d[3]`\n",
    "\n",
    "(f) `f = (1, 2, 3)`\n",
    "\n",
    "(g) `g = {1: 'Chase', 2: 'Dave', 3: 'Spencer'}` \n",
    "\n",
    "(h) `h = 'foo' + 'bar'`\n",
    "\n",
    "(i) `i = (1 != 0)`   # parens not needed, but they make code more understandable\n"
   ]
  },
  {
   "cell_type": "markdown",
   "metadata": {},
   "source": [
    "## Question 2\n",
    "\n",
    "Take the `first` and `last` variables defined in the cell below and do the following with them:  \n",
    "\n",
    "(a) Extract the first letter of `last`.  \n",
    "\n",
    "(b) Find a method to _split_ `last` into two components at the hyphen.  \n",
    "\n",
    "(c) Define a new string variable named `combo` consisting of `first` (the first name), a space, the first letter of `last`, and a period.  \n"
   ]
  },
  {
   "cell_type": "code",
   "execution_count": null,
   "metadata": {},
   "outputs": [],
   "source": [
    "first = 'Wilhelmina'\n",
    "last  = 'Grubbly-Plank' "
   ]
  },
  {
   "cell_type": "code",
   "execution_count": null,
   "metadata": {},
   "outputs": [],
   "source": []
  },
  {
   "cell_type": "code",
   "execution_count": null,
   "metadata": {},
   "outputs": [],
   "source": []
  }
 ],
 "metadata": {
  "kernelspec": {
   "display_name": "Python 3",
   "language": "python",
   "name": "python3"
  },
  "language_info": {
   "codemirror_mode": {
    "name": "ipython",
    "version": 3
   },
   "file_extension": ".py",
   "mimetype": "text/x-python",
   "name": "python",
   "nbconvert_exporter": "python",
   "pygments_lexer": "ipython3",
   "version": "3.6.5"
  }
 },
 "nbformat": 4,
 "nbformat_minor": 2
}
