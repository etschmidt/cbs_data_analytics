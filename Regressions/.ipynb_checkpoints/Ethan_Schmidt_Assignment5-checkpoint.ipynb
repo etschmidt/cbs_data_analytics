{
 "cells": [
  {
   "cell_type": "markdown",
   "metadata": {},
   "source": [
    "$ln(Price)_i = 0.0205 + 0.0334 * Carat_i + 0.093 * Cut_i + 0.128 * ln(Color)_i + e_i $\n",
    "\n",
    "The Natural Log of the Price, presumably in Dollars, goes up $1, for every .03 carats, for every .093 inprovements in the cut quality and .128 for every increase in the log of the color category on the diamond color-purity scale"
   ]
  },
  {
   "cell_type": "markdown",
   "metadata": {},
   "source": [
    "Omitted variable bias occurs when a statistical model leaves out one or more relevant variables. The bias results in the model attributing the effect of the missing variables to the estimated effects of the included variables."
   ]
  },
  {
   "cell_type": "markdown",
   "metadata": {},
   "source": [
    "$Y = β_0 + \\beta_1*X_1 + \\beta_2*X_2 + \\epsilon$ <br>\n",
    "\n",
    "  ------------- | Cov(X1,X2) < 0 | Cov(X1,X2) > 0\n",
    "  ------------- | -------------  | -------------\n",
    "  Cov(Y,X2) < 0 | Overestimated  | Underestimated\n",
    "  Cov(Y,X2) > 0 | Underestimated | Overestimated"
   ]
  },
  {
   "cell_type": "markdown",
   "metadata": {},
   "source": [
    "This regression has confused the independent and dependent variables; it makes more sense that the price depends on the demand signal from the market, not the other way around <br>\n",
    "<span style=\"color:red;\">WORD WORDS WORDS</span>"
   ]
  },
  {
   "cell_type": "markdown",
   "metadata": {},
   "source": [
    "### Datatime\n",
    "birthweight:​ birth weight of infant (in grams<br>smoker:​ yes if the mother smoked during pregnancy and no, otherwise.<br>age: ​mother’s age<br>educ​: mother’s years of educational attainment (more than 16 years coded as 17)<br>unmarried​: indicator =1 if mother is unmarried<br>alcohol​: indicator=1 if mother drank alcohol during pregnancy<br>drinks​: number of drinks per week<br>tripre1​: indicator=1 if 1st prenatal care visit in 1st trimester<br>tripre2:​ indicator=1 if 1st prenatal care visit in 2nd trimester<br>tripre3​: indicator=1 if 1st prenatal care visit in 3rd trimester<br>tripre0​ indicator=1 if no prenatal visits<br>nprevist:​ total number of prenatal visits"
   ]
  },
  {
   "cell_type": "code",
   "execution_count": 16,
   "metadata": {},
   "outputs": [],
   "source": [
    "import pandas as pd\n",
    "import numpy as np\n",
    "import statsmodels.formula.api as smf\n",
    "import matplotlib.pyplot as plt\n",
    "%matplotlib inline"
   ]
  },
  {
   "cell_type": "code",
   "execution_count": 8,
   "metadata": {},
   "outputs": [
    {
     "data": {
      "text/html": [
       "<div>\n",
       "<style scoped>\n",
       "    .dataframe tbody tr th:only-of-type {\n",
       "        vertical-align: middle;\n",
       "    }\n",
       "\n",
       "    .dataframe tbody tr th {\n",
       "        vertical-align: top;\n",
       "    }\n",
       "\n",
       "    .dataframe thead th {\n",
       "        text-align: right;\n",
       "    }\n",
       "</style>\n",
       "<table border=\"1\" class=\"dataframe\">\n",
       "  <thead>\n",
       "    <tr style=\"text-align: right;\">\n",
       "      <th></th>\n",
       "      <th>educ</th>\n",
       "      <th>smoker</th>\n",
       "      <th>age</th>\n",
       "      <th>nprevist</th>\n",
       "      <th>alcohol</th>\n",
       "      <th>tripre1</th>\n",
       "      <th>tripre2</th>\n",
       "      <th>tripre3</th>\n",
       "      <th>tripre0</th>\n",
       "      <th>birthweight</th>\n",
       "      <th>unmarried</th>\n",
       "      <th>drinks</th>\n",
       "    </tr>\n",
       "  </thead>\n",
       "  <tbody>\n",
       "    <tr>\n",
       "      <th>0</th>\n",
       "      <td>12</td>\n",
       "      <td>Yes</td>\n",
       "      <td>27</td>\n",
       "      <td>12</td>\n",
       "      <td>0</td>\n",
       "      <td>1</td>\n",
       "      <td>0</td>\n",
       "      <td>0</td>\n",
       "      <td>0</td>\n",
       "      <td>4253</td>\n",
       "      <td>1</td>\n",
       "      <td>0</td>\n",
       "    </tr>\n",
       "    <tr>\n",
       "      <th>1</th>\n",
       "      <td>16</td>\n",
       "      <td>No</td>\n",
       "      <td>24</td>\n",
       "      <td>5</td>\n",
       "      <td>0</td>\n",
       "      <td>0</td>\n",
       "      <td>1</td>\n",
       "      <td>0</td>\n",
       "      <td>0</td>\n",
       "      <td>3459</td>\n",
       "      <td>0</td>\n",
       "      <td>0</td>\n",
       "    </tr>\n",
       "    <tr>\n",
       "      <th>2</th>\n",
       "      <td>11</td>\n",
       "      <td>Yes</td>\n",
       "      <td>23</td>\n",
       "      <td>12</td>\n",
       "      <td>0</td>\n",
       "      <td>1</td>\n",
       "      <td>0</td>\n",
       "      <td>0</td>\n",
       "      <td>0</td>\n",
       "      <td>2920</td>\n",
       "      <td>0</td>\n",
       "      <td>0</td>\n",
       "    </tr>\n",
       "    <tr>\n",
       "      <th>3</th>\n",
       "      <td>17</td>\n",
       "      <td>No</td>\n",
       "      <td>28</td>\n",
       "      <td>13</td>\n",
       "      <td>0</td>\n",
       "      <td>1</td>\n",
       "      <td>0</td>\n",
       "      <td>0</td>\n",
       "      <td>0</td>\n",
       "      <td>2600</td>\n",
       "      <td>0</td>\n",
       "      <td>0</td>\n",
       "    </tr>\n",
       "    <tr>\n",
       "      <th>4</th>\n",
       "      <td>13</td>\n",
       "      <td>No</td>\n",
       "      <td>27</td>\n",
       "      <td>9</td>\n",
       "      <td>0</td>\n",
       "      <td>1</td>\n",
       "      <td>0</td>\n",
       "      <td>0</td>\n",
       "      <td>0</td>\n",
       "      <td>3742</td>\n",
       "      <td>0</td>\n",
       "      <td>0</td>\n",
       "    </tr>\n",
       "  </tbody>\n",
       "</table>\n",
       "</div>"
      ],
      "text/plain": [
       "   educ smoker  age  nprevist  alcohol  tripre1  tripre2  tripre3  tripre0  \\\n",
       "0    12    Yes   27        12        0        1        0        0        0   \n",
       "1    16     No   24         5        0        0        1        0        0   \n",
       "2    11    Yes   23        12        0        1        0        0        0   \n",
       "3    17     No   28        13        0        1        0        0        0   \n",
       "4    13     No   27         9        0        1        0        0        0   \n",
       "\n",
       "   birthweight  unmarried  drinks  \n",
       "0         4253          1       0  \n",
       "1         3459          0       0  \n",
       "2         2920          0       0  \n",
       "3         2600          0       0  \n",
       "4         3742          0       0  "
      ]
     },
     "execution_count": 8,
     "metadata": {},
     "output_type": "execute_result"
    }
   ],
   "source": [
    "data= pd.read_csv('5data.csv')\n",
    "data.head()"
   ]
  },
  {
   "cell_type": "code",
   "execution_count": 13,
   "metadata": {},
   "outputs": [
    {
     "data": {
      "text/html": [
       "<div>\n",
       "<style scoped>\n",
       "    .dataframe tbody tr th:only-of-type {\n",
       "        vertical-align: middle;\n",
       "    }\n",
       "\n",
       "    .dataframe tbody tr th {\n",
       "        vertical-align: top;\n",
       "    }\n",
       "\n",
       "    .dataframe thead th {\n",
       "        text-align: right;\n",
       "    }\n",
       "</style>\n",
       "<table border=\"1\" class=\"dataframe\">\n",
       "  <thead>\n",
       "    <tr style=\"text-align: right;\">\n",
       "      <th></th>\n",
       "      <th>educ</th>\n",
       "      <th>smoker</th>\n",
       "      <th>age</th>\n",
       "      <th>nprevist</th>\n",
       "      <th>alcohol</th>\n",
       "      <th>tripre1</th>\n",
       "      <th>tripre2</th>\n",
       "      <th>tripre3</th>\n",
       "      <th>tripre0</th>\n",
       "      <th>birthweight</th>\n",
       "      <th>unmarried</th>\n",
       "      <th>drinks</th>\n",
       "    </tr>\n",
       "  </thead>\n",
       "  <tbody>\n",
       "    <tr>\n",
       "      <th>0</th>\n",
       "      <td>12</td>\n",
       "      <td>1</td>\n",
       "      <td>27</td>\n",
       "      <td>12</td>\n",
       "      <td>0</td>\n",
       "      <td>1</td>\n",
       "      <td>0</td>\n",
       "      <td>0</td>\n",
       "      <td>0</td>\n",
       "      <td>4253</td>\n",
       "      <td>1</td>\n",
       "      <td>0</td>\n",
       "    </tr>\n",
       "    <tr>\n",
       "      <th>1</th>\n",
       "      <td>16</td>\n",
       "      <td>0</td>\n",
       "      <td>24</td>\n",
       "      <td>5</td>\n",
       "      <td>0</td>\n",
       "      <td>0</td>\n",
       "      <td>1</td>\n",
       "      <td>0</td>\n",
       "      <td>0</td>\n",
       "      <td>3459</td>\n",
       "      <td>0</td>\n",
       "      <td>0</td>\n",
       "    </tr>\n",
       "    <tr>\n",
       "      <th>2</th>\n",
       "      <td>11</td>\n",
       "      <td>1</td>\n",
       "      <td>23</td>\n",
       "      <td>12</td>\n",
       "      <td>0</td>\n",
       "      <td>1</td>\n",
       "      <td>0</td>\n",
       "      <td>0</td>\n",
       "      <td>0</td>\n",
       "      <td>2920</td>\n",
       "      <td>0</td>\n",
       "      <td>0</td>\n",
       "    </tr>\n",
       "    <tr>\n",
       "      <th>3</th>\n",
       "      <td>17</td>\n",
       "      <td>0</td>\n",
       "      <td>28</td>\n",
       "      <td>13</td>\n",
       "      <td>0</td>\n",
       "      <td>1</td>\n",
       "      <td>0</td>\n",
       "      <td>0</td>\n",
       "      <td>0</td>\n",
       "      <td>2600</td>\n",
       "      <td>0</td>\n",
       "      <td>0</td>\n",
       "    </tr>\n",
       "    <tr>\n",
       "      <th>4</th>\n",
       "      <td>13</td>\n",
       "      <td>0</td>\n",
       "      <td>27</td>\n",
       "      <td>9</td>\n",
       "      <td>0</td>\n",
       "      <td>1</td>\n",
       "      <td>0</td>\n",
       "      <td>0</td>\n",
       "      <td>0</td>\n",
       "      <td>3742</td>\n",
       "      <td>0</td>\n",
       "      <td>0</td>\n",
       "    </tr>\n",
       "  </tbody>\n",
       "</table>\n",
       "</div>"
      ],
      "text/plain": [
       "   educ  smoker  age  nprevist  alcohol  tripre1  tripre2  tripre3  tripre0  \\\n",
       "0    12       1   27        12        0        1        0        0        0   \n",
       "1    16       0   24         5        0        0        1        0        0   \n",
       "2    11       1   23        12        0        1        0        0        0   \n",
       "3    17       0   28        13        0        1        0        0        0   \n",
       "4    13       0   27         9        0        1        0        0        0   \n",
       "\n",
       "   birthweight  unmarried  drinks  \n",
       "0         4253          1       0  \n",
       "1         3459          0       0  \n",
       "2         2920          0       0  \n",
       "3         2600          0       0  \n",
       "4         3742          0       0  "
      ]
     },
     "execution_count": 13,
     "metadata": {},
     "output_type": "execute_result"
    }
   ],
   "source": [
    "#Convert the data in the “smoker” column to an indicator variable\n",
    "data['smoker'] = data['smoker'].replace(['Yes'], 1)\n",
    "data['smoker'] = data['smoker'].replace(['No'], 0)\n",
    "data.head()"
   ]
  },
  {
   "cell_type": "code",
   "execution_count": 19,
   "metadata": {},
   "outputs": [
    {
     "name": "stdout",
     "output_type": "stream",
     "text": [
      "                            OLS Regression Results                            \n",
      "==============================================================================\n",
      "Dep. Variable:            birthweight   R-squared:                       0.074\n",
      "Model:                            OLS   Adj. R-squared:                  0.072\n",
      "Method:                 Least Squares   F-statistic:                     59.57\n",
      "Date:                Sat, 02 Mar 2019   Prob (F-statistic):           1.83e-48\n",
      "Time:                        15:35:22   Log-Likelihood:                -23293.\n",
      "No. Observations:                3000   AIC:                         4.660e+04\n",
      "Df Residuals:                    2995   BIC:                         4.663e+04\n",
      "Df Model:                           4                                         \n",
      "Covariance Type:            nonrobust                                         \n",
      "==============================================================================\n",
      "                 coef    std err          t      P>|t|      [0.025      0.975]\n",
      "------------------------------------------------------------------------------\n",
      "Intercept   2969.1887     60.204     49.319      0.000    2851.144    3087.234\n",
      "age            3.2768      1.984      1.652      0.099      -0.613       7.167\n",
      "alcohol      -38.1908     76.354     -0.500      0.617    -187.903     111.522\n",
      "nprevist      33.4261      2.881     11.604      0.000      27.778      39.074\n",
      "smoker      -211.5179     26.923     -7.856      0.000    -264.308    -158.728\n",
      "==============================================================================\n",
      "Omnibus:                      378.783   Durbin-Watson:                   1.972\n",
      "Prob(Omnibus):                  0.000   Jarque-Bera (JB):              883.175\n",
      "Skew:                          -0.736   Prob(JB):                    1.66e-192\n",
      "Kurtosis:                       5.213   Cond. No.                         217.\n",
      "==============================================================================\n",
      "\n",
      "Warnings:\n",
      "[1] Standard Errors assume that the covariance matrix of the errors is correctly specified.\n"
     ]
    }
   ],
   "source": [
    "#Perform a regression with birthweight as the dependent variable and age, alcohol, nprevisit and smoker as the independent variables. Interpret your results (coefficients, significance, R^2)\n",
    "print(smf.ols('birthweight ~ age + alcohol + nprevist + smoker', data=data).fit().summary())"
   ]
  },
  {
   "cell_type": "markdown",
   "metadata": {},
   "source": [
    "According to the model, for every prenatal doctor visit, the birthweight significantly inreases, and for significantly decreases if the mother smokes; age is potentially significant but unlikely to affect the outcome, and alcohol drinking does not seem to affect birthweight"
   ]
  },
  {
   "cell_type": "markdown",
   "metadata": {},
   "source": [
    "Since human weigth, especially at birth, is genetically passed from the parents, kay variables that have not been included in the model would be the father and mother's weights; I hypothecize that fatter people have statistically fatter children"
   ]
  },
  {
   "cell_type": "markdown",
   "metadata": {},
   "source": [
    "Were education included in the model, it would be positively correlated with age, and the $\\beta$ would be underestimated"
   ]
  },
  {
   "cell_type": "code",
   "execution_count": 21,
   "metadata": {},
   "outputs": [
    {
     "name": "stdout",
     "output_type": "stream",
     "text": [
      "                            OLS Regression Results                            \n",
      "==============================================================================\n",
      "Dep. Variable:            birthweight   R-squared:                       0.074\n",
      "Model:                            OLS   Adj. R-squared:                  0.072\n",
      "Method:                 Least Squares   F-statistic:                     47.86\n",
      "Date:                Sat, 02 Mar 2019   Prob (F-statistic):           9.01e-48\n",
      "Time:                        15:49:06   Log-Likelihood:                -23292.\n",
      "No. Observations:                3000   AIC:                         4.660e+04\n",
      "Df Residuals:                    2994   BIC:                         4.663e+04\n",
      "Df Model:                           5                                         \n",
      "Covariance Type:            nonrobust                                         \n",
      "==============================================================================\n",
      "                 coef    std err          t      P>|t|      [0.025      0.975]\n",
      "------------------------------------------------------------------------------\n",
      "Intercept   2924.9630     74.185     39.428      0.000    2779.504    3070.422\n",
      "educ           5.6445      5.532      1.020      0.308      -5.203      16.492\n",
      "age            2.3596      2.178      1.083      0.279      -1.911       6.630\n",
      "alcohol      -39.5121     76.365     -0.517      0.605    -189.245     110.221\n",
      "nprevist      32.9791      2.914     11.318      0.000      27.266      38.692\n",
      "smoker      -206.5068     27.367     -7.546      0.000    -260.168    -152.846\n",
      "==============================================================================\n",
      "Omnibus:                      377.138   Durbin-Watson:                   1.970\n",
      "Prob(Omnibus):                  0.000   Jarque-Bera (JB):              881.010\n",
      "Skew:                          -0.732   Prob(JB):                    4.91e-192\n",
      "Kurtosis:                       5.214   Cond. No.                         239.\n",
      "==============================================================================\n",
      "\n",
      "Warnings:\n",
      "[1] Standard Errors assume that the covariance matrix of the errors is correctly specified.\n"
     ]
    }
   ],
   "source": [
    "print(smf.ols('birthweight ~ educ + age + alcohol + nprevist + smoker', data=data).fit().summary())"
   ]
  },
  {
   "cell_type": "markdown",
   "metadata": {},
   "source": [
    "After including 'educ', the coefficient for 'age' dropped from 3.27 to 2.36; our hypothesis stated that if 'educ' were included, the 'age' vaiable would be underestimated"
   ]
  }
 ],
 "metadata": {
  "kernelspec": {
   "display_name": "Python 3",
   "language": "python",
   "name": "python3"
  },
  "language_info": {
   "codemirror_mode": {
    "name": "ipython",
    "version": 3
   },
   "file_extension": ".py",
   "mimetype": "text/x-python",
   "name": "python",
   "nbconvert_exporter": "python",
   "pygments_lexer": "ipython3",
   "version": "3.7.0"
  }
 },
 "nbformat": 4,
 "nbformat_minor": 2
}
