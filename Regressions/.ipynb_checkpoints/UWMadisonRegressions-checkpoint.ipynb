{
 "cells": [
  {
   "cell_type": "code",
   "execution_count": 1,
   "metadata": {},
   "outputs": [],
   "source": [
    "import pandas as pd\n",
    "import numpy as np\n",
    "import matplotlib.pyplot as plt\n",
    "%matplotlib inline"
   ]
  },
  {
   "cell_type": "code",
   "execution_count": 2,
   "metadata": {},
   "outputs": [],
   "source": [
    "grades = pd.read_csv('files/grade_distributions.csv')\n",
    "courses = pd.read_csv('files/courses.csv')\n",
    "course_offerings = pd.read_csv('files/course_offerings.csv')\n",
    "subjects = pd.read_csv('files/subjects.csv')\n",
    "subject_memberships = pd.read_csv('files/subject_memberships.csv')"
   ]
  },
  {
   "cell_type": "code",
   "execution_count": 3,
   "metadata": {},
   "outputs": [
    {
     "name": "stdout",
     "output_type": "stream",
     "text": [
      "GRADES ['course_offering_uuid', 'section_number', 'a_count', 'ab_count', 'b_count', 'bc_count', 'c_count', 'd_count', 'f_count', 's_count', 'u_count', 'cr_count', 'n_count', 'p_count', 'i_count', 'nw_count', 'nr_count', 'other_count']\n",
      "COURSES ['uuid', 'name', 'number']\n",
      "COURSE OFFERINGS ['uuid', 'course_uuid', 'term_code', 'name']\n",
      "SUBJECTS ['code', 'name', 'abbreviation']\n",
      "MEMBERSHIPS ['subject_code', 'course_offering_uuid']\n"
     ]
    }
   ],
   "source": [
    "print(\"GRADES\", list(grades))\n",
    "print(\"COURSES\", list(courses))\n",
    "print(\"COURSE OFFERINGS\", list(course_offerings))\n",
    "print(\"SUBJECTS\", list(subjects))\n",
    "print(\"MEMBERSHIPS\", list(subject_memberships))"
   ]
  },
  {
   "cell_type": "code",
   "execution_count": 4,
   "metadata": {},
   "outputs": [
    {
     "data": {
      "text/plain": [
       "course_offering_uuid    193262\n",
       "section_number          193262\n",
       "a_count                 193262\n",
       "ab_count                193262\n",
       "b_count                 193262\n",
       "bc_count                193262\n",
       "c_count                 193262\n",
       "d_count                 193262\n",
       "f_count                 193262\n",
       "s_count                 193262\n",
       "u_count                 193262\n",
       "cr_count                193262\n",
       "n_count                 193262\n",
       "p_count                 193262\n",
       "i_count                 193262\n",
       "nw_count                193262\n",
       "nr_count                193262\n",
       "other_count             193262\n",
       "uuid                    193262\n",
       "course_uuid             193262\n",
       "term_code               193262\n",
       "name                    191660\n",
       "dtype: int64"
      ]
     },
     "execution_count": 4,
     "metadata": {},
     "output_type": "execute_result"
    }
   ],
   "source": [
    "master = pd.merge(grades, course_offerings, how='left', left_on='course_offering_uuid', right_on='uuid')"
   ]
  },
  {
   "cell_type": "code",
   "execution_count": 5,
   "metadata": {},
   "outputs": [
    {
     "data": {
      "text/plain": [
       "course_offering_uuid    193262\n",
       "section_number          193262\n",
       "a_count                 193262\n",
       "ab_count                193262\n",
       "b_count                 193262\n",
       "bc_count                193262\n",
       "c_count                 193262\n",
       "d_count                 193262\n",
       "f_count                 193262\n",
       "s_count                 193262\n",
       "u_count                 193262\n",
       "cr_count                193262\n",
       "n_count                 193262\n",
       "p_count                 193262\n",
       "i_count                 193262\n",
       "nw_count                193262\n",
       "nr_count                193262\n",
       "other_count             193262\n",
       "uuid_x                  193262\n",
       "course_uuid             193262\n",
       "term_code               193262\n",
       "name_x                  191660\n",
       "uuid_y                  193262\n",
       "name_y                  193200\n",
       "number                  193262\n",
       "dtype: int64"
      ]
     },
     "execution_count": 5,
     "metadata": {},
     "output_type": "execute_result"
    }
   ],
   "source": [
    "master = pd.merge(master, courses, how='left', left_on='course_uuid', right_on='uuid')"
   ]
  },
  {
   "cell_type": "code",
   "execution_count": 6,
   "metadata": {},
   "outputs": [
    {
     "data": {
      "text/plain": [
       "course_offering_uuid    211763\n",
       "section_number          211763\n",
       "a_count                 211763\n",
       "ab_count                211763\n",
       "b_count                 211763\n",
       "bc_count                211763\n",
       "c_count                 211763\n",
       "d_count                 211763\n",
       "f_count                 211763\n",
       "s_count                 211763\n",
       "u_count                 211763\n",
       "cr_count                211763\n",
       "n_count                 211763\n",
       "p_count                 211763\n",
       "i_count                 211763\n",
       "nw_count                211763\n",
       "nr_count                211763\n",
       "other_count             211763\n",
       "uuid_x                  211763\n",
       "course_uuid             211763\n",
       "term_code               211763\n",
       "name_x                  207792\n",
       "uuid_y                  211763\n",
       "name_y                  211626\n",
       "number                  211763\n",
       "subject_code            211763\n",
       "dtype: int64"
      ]
     },
     "execution_count": 6,
     "metadata": {},
     "output_type": "execute_result"
    }
   ],
   "source": [
    "master = pd.merge(master, subject_memberships, how='left', on='course_offering_uuid')"
   ]
  },
  {
   "cell_type": "code",
   "execution_count": 7,
   "metadata": {},
   "outputs": [],
   "source": [
    "master['subject_code'] = master['subject_code'].apply(str)"
   ]
  },
  {
   "cell_type": "code",
   "execution_count": 8,
   "metadata": {},
   "outputs": [
    {
     "data": {
      "text/plain": [
       "course_offering_uuid    211763\n",
       "section_number          211763\n",
       "a_count                 211763\n",
       "ab_count                211763\n",
       "b_count                 211763\n",
       "bc_count                211763\n",
       "c_count                 211763\n",
       "d_count                 211763\n",
       "f_count                 211763\n",
       "s_count                 211763\n",
       "u_count                 211763\n",
       "cr_count                211763\n",
       "n_count                 211763\n",
       "p_count                 211763\n",
       "i_count                 211763\n",
       "nw_count                211763\n",
       "nr_count                211763\n",
       "other_count             211763\n",
       "uuid_x                  211763\n",
       "course_uuid             211763\n",
       "term_code               211763\n",
       "name_x                  207792\n",
       "uuid_y                  211763\n",
       "name_y                  211626\n",
       "number                  211763\n",
       "subject_code            211763\n",
       "code                    211763\n",
       "name                    211763\n",
       "abbreviation            211763\n",
       "dtype: int64"
      ]
     },
     "execution_count": 8,
     "metadata": {},
     "output_type": "execute_result"
    }
   ],
   "source": [
    "master = pd.merge(master, subjects, how='left', left_on='subject_code', right_on='code')"
   ]
  },
  {
   "cell_type": "code",
   "execution_count": 10,
   "metadata": {},
   "outputs": [],
   "source": [
    "master.to_csv('UWData.csv', encoding='utf-8', index=False)"
   ]
  },
  {
   "cell_type": "markdown",
   "metadata": {},
   "source": [
    "### Using compiled sheet from file"
   ]
  },
  {
   "cell_type": "code",
   "execution_count": 4,
   "metadata": {},
   "outputs": [
    {
     "data": {
      "text/html": [
       "<div>\n",
       "<style scoped>\n",
       "    .dataframe tbody tr th:only-of-type {\n",
       "        vertical-align: middle;\n",
       "    }\n",
       "\n",
       "    .dataframe tbody tr th {\n",
       "        vertical-align: top;\n",
       "    }\n",
       "\n",
       "    .dataframe thead th {\n",
       "        text-align: right;\n",
       "    }\n",
       "</style>\n",
       "<table border=\"1\" class=\"dataframe\">\n",
       "  <thead>\n",
       "    <tr style=\"text-align: right;\">\n",
       "      <th></th>\n",
       "      <th>course_offering_uuid</th>\n",
       "      <th>section_number</th>\n",
       "      <th>a_count</th>\n",
       "      <th>ab_count</th>\n",
       "      <th>b_count</th>\n",
       "      <th>bc_count</th>\n",
       "      <th>c_count</th>\n",
       "      <th>d_count</th>\n",
       "      <th>f_count</th>\n",
       "      <th>s_count</th>\n",
       "      <th>...</th>\n",
       "      <th>course_uuid</th>\n",
       "      <th>term_code</th>\n",
       "      <th>name_x</th>\n",
       "      <th>uuid_y</th>\n",
       "      <th>name_y</th>\n",
       "      <th>number</th>\n",
       "      <th>subject_code</th>\n",
       "      <th>code</th>\n",
       "      <th>name</th>\n",
       "      <th>abbreviation</th>\n",
       "    </tr>\n",
       "  </thead>\n",
       "  <tbody>\n",
       "    <tr>\n",
       "      <th>0</th>\n",
       "      <td>344b3ebe-da7e-314c-83ed-9425269695fd</td>\n",
       "      <td>1</td>\n",
       "      <td>105</td>\n",
       "      <td>0</td>\n",
       "      <td>0</td>\n",
       "      <td>0</td>\n",
       "      <td>0</td>\n",
       "      <td>0</td>\n",
       "      <td>0</td>\n",
       "      <td>0</td>\n",
       "      <td>...</td>\n",
       "      <td>a3e3e1c3-543d-3bb5-ae65-5f2aec4ad1de</td>\n",
       "      <td>1092</td>\n",
       "      <td>Cooperative Education Prog</td>\n",
       "      <td>a3e3e1c3-543d-3bb5-ae65-5f2aec4ad1de</td>\n",
       "      <td>Cooperative Education Program</td>\n",
       "      <td>1</td>\n",
       "      <td>220</td>\n",
       "      <td>220</td>\n",
       "      <td>Chemical and Biological Engineering</td>\n",
       "      <td>CBE</td>\n",
       "    </tr>\n",
       "    <tr>\n",
       "      <th>1</th>\n",
       "      <td>344b3ebe-da7e-314c-83ed-9425269695fd</td>\n",
       "      <td>1</td>\n",
       "      <td>105</td>\n",
       "      <td>0</td>\n",
       "      <td>0</td>\n",
       "      <td>0</td>\n",
       "      <td>0</td>\n",
       "      <td>0</td>\n",
       "      <td>0</td>\n",
       "      <td>0</td>\n",
       "      <td>...</td>\n",
       "      <td>a3e3e1c3-543d-3bb5-ae65-5f2aec4ad1de</td>\n",
       "      <td>1092</td>\n",
       "      <td>Cooperative Education Prog</td>\n",
       "      <td>a3e3e1c3-543d-3bb5-ae65-5f2aec4ad1de</td>\n",
       "      <td>Cooperative Education Program</td>\n",
       "      <td>1</td>\n",
       "      <td>320</td>\n",
       "      <td>320</td>\n",
       "      <td>Electrical and Computer Engineering</td>\n",
       "      <td>E C E</td>\n",
       "    </tr>\n",
       "    <tr>\n",
       "      <th>2</th>\n",
       "      <td>344b3ebe-da7e-314c-83ed-9425269695fd</td>\n",
       "      <td>1</td>\n",
       "      <td>105</td>\n",
       "      <td>0</td>\n",
       "      <td>0</td>\n",
       "      <td>0</td>\n",
       "      <td>0</td>\n",
       "      <td>0</td>\n",
       "      <td>0</td>\n",
       "      <td>0</td>\n",
       "      <td>...</td>\n",
       "      <td>a3e3e1c3-543d-3bb5-ae65-5f2aec4ad1de</td>\n",
       "      <td>1092</td>\n",
       "      <td>Cooperative Education Prog</td>\n",
       "      <td>a3e3e1c3-543d-3bb5-ae65-5f2aec4ad1de</td>\n",
       "      <td>Cooperative Education Program</td>\n",
       "      <td>1</td>\n",
       "      <td>346</td>\n",
       "      <td>346</td>\n",
       "      <td>Engineering Mechanics and Astronautics</td>\n",
       "      <td>E M A</td>\n",
       "    </tr>\n",
       "    <tr>\n",
       "      <th>3</th>\n",
       "      <td>344b3ebe-da7e-314c-83ed-9425269695fd</td>\n",
       "      <td>1</td>\n",
       "      <td>105</td>\n",
       "      <td>0</td>\n",
       "      <td>0</td>\n",
       "      <td>0</td>\n",
       "      <td>0</td>\n",
       "      <td>0</td>\n",
       "      <td>0</td>\n",
       "      <td>0</td>\n",
       "      <td>...</td>\n",
       "      <td>a3e3e1c3-543d-3bb5-ae65-5f2aec4ad1de</td>\n",
       "      <td>1092</td>\n",
       "      <td>Cooperative Education Prog</td>\n",
       "      <td>a3e3e1c3-543d-3bb5-ae65-5f2aec4ad1de</td>\n",
       "      <td>Cooperative Education Program</td>\n",
       "      <td>1</td>\n",
       "      <td>612</td>\n",
       "      <td>612</td>\n",
       "      <td>Mechanical Engineering</td>\n",
       "      <td>M E</td>\n",
       "    </tr>\n",
       "    <tr>\n",
       "      <th>4</th>\n",
       "      <td>344b3ebe-da7e-314c-83ed-9425269695fd</td>\n",
       "      <td>1</td>\n",
       "      <td>105</td>\n",
       "      <td>0</td>\n",
       "      <td>0</td>\n",
       "      <td>0</td>\n",
       "      <td>0</td>\n",
       "      <td>0</td>\n",
       "      <td>0</td>\n",
       "      <td>0</td>\n",
       "      <td>...</td>\n",
       "      <td>a3e3e1c3-543d-3bb5-ae65-5f2aec4ad1de</td>\n",
       "      <td>1092</td>\n",
       "      <td>Cooperative Education Prog</td>\n",
       "      <td>a3e3e1c3-543d-3bb5-ae65-5f2aec4ad1de</td>\n",
       "      <td>Cooperative Education Program</td>\n",
       "      <td>1</td>\n",
       "      <td>636</td>\n",
       "      <td>636</td>\n",
       "      <td>Materials Science and Engineering</td>\n",
       "      <td>M S &amp; E</td>\n",
       "    </tr>\n",
       "  </tbody>\n",
       "</table>\n",
       "<p>5 rows × 29 columns</p>\n",
       "</div>"
      ],
      "text/plain": [
       "                   course_offering_uuid  section_number  a_count  ab_count  \\\n",
       "0  344b3ebe-da7e-314c-83ed-9425269695fd               1      105         0   \n",
       "1  344b3ebe-da7e-314c-83ed-9425269695fd               1      105         0   \n",
       "2  344b3ebe-da7e-314c-83ed-9425269695fd               1      105         0   \n",
       "3  344b3ebe-da7e-314c-83ed-9425269695fd               1      105         0   \n",
       "4  344b3ebe-da7e-314c-83ed-9425269695fd               1      105         0   \n",
       "\n",
       "   b_count  bc_count  c_count  d_count  f_count  s_count     ...       \\\n",
       "0        0         0        0        0        0        0     ...        \n",
       "1        0         0        0        0        0        0     ...        \n",
       "2        0         0        0        0        0        0     ...        \n",
       "3        0         0        0        0        0        0     ...        \n",
       "4        0         0        0        0        0        0     ...        \n",
       "\n",
       "                            course_uuid  term_code  \\\n",
       "0  a3e3e1c3-543d-3bb5-ae65-5f2aec4ad1de       1092   \n",
       "1  a3e3e1c3-543d-3bb5-ae65-5f2aec4ad1de       1092   \n",
       "2  a3e3e1c3-543d-3bb5-ae65-5f2aec4ad1de       1092   \n",
       "3  a3e3e1c3-543d-3bb5-ae65-5f2aec4ad1de       1092   \n",
       "4  a3e3e1c3-543d-3bb5-ae65-5f2aec4ad1de       1092   \n",
       "\n",
       "                       name_x                                uuid_y  \\\n",
       "0  Cooperative Education Prog  a3e3e1c3-543d-3bb5-ae65-5f2aec4ad1de   \n",
       "1  Cooperative Education Prog  a3e3e1c3-543d-3bb5-ae65-5f2aec4ad1de   \n",
       "2  Cooperative Education Prog  a3e3e1c3-543d-3bb5-ae65-5f2aec4ad1de   \n",
       "3  Cooperative Education Prog  a3e3e1c3-543d-3bb5-ae65-5f2aec4ad1de   \n",
       "4  Cooperative Education Prog  a3e3e1c3-543d-3bb5-ae65-5f2aec4ad1de   \n",
       "\n",
       "                          name_y  number  subject_code  code  \\\n",
       "0  Cooperative Education Program       1           220   220   \n",
       "1  Cooperative Education Program       1           320   320   \n",
       "2  Cooperative Education Program       1           346   346   \n",
       "3  Cooperative Education Program       1           612   612   \n",
       "4  Cooperative Education Program       1           636   636   \n",
       "\n",
       "                                     name abbreviation  \n",
       "0     Chemical and Biological Engineering          CBE  \n",
       "1     Electrical and Computer Engineering        E C E  \n",
       "2  Engineering Mechanics and Astronautics        E M A  \n",
       "3                  Mechanical Engineering          M E  \n",
       "4       Materials Science and Engineering      M S & E  \n",
       "\n",
       "[5 rows x 29 columns]"
      ]
     },
     "execution_count": 4,
     "metadata": {},
     "output_type": "execute_result"
    }
   ],
   "source": [
    "grades = pd.read_csv('UWData.csv')\n",
    "grades.head()"
   ]
  },
  {
   "cell_type": "code",
   "execution_count": 5,
   "metadata": {},
   "outputs": [
    {
     "data": {
      "text/plain": [
       "['course_offering_uuid',\n",
       " 'section_number',\n",
       " 'a_count',\n",
       " 'ab_count',\n",
       " 'b_count',\n",
       " 'bc_count',\n",
       " 'c_count',\n",
       " 'd_count',\n",
       " 'f_count',\n",
       " 's_count',\n",
       " 'u_count',\n",
       " 'cr_count',\n",
       " 'n_count',\n",
       " 'p_count',\n",
       " 'i_count',\n",
       " 'nw_count',\n",
       " 'nr_count',\n",
       " 'other_count',\n",
       " 'uuid_x',\n",
       " 'course_uuid',\n",
       " 'term_code',\n",
       " 'name_x',\n",
       " 'uuid_y',\n",
       " 'name_y',\n",
       " 'number',\n",
       " 'subject_code',\n",
       " 'code',\n",
       " 'name',\n",
       " 'abbreviation']"
      ]
     },
     "execution_count": 5,
     "metadata": {},
     "output_type": "execute_result"
    }
   ],
   "source": [
    "list(grades)"
   ]
  },
  {
   "cell_type": "code",
   "execution_count": 6,
   "metadata": {},
   "outputs": [],
   "source": [
    "# find total number of enrolled students per class\n",
    "grades['enrolled'] = grades['a_count'] + grades['ab_count'] + grades['b_count'] + grades['bc_count'] + grades['c_count'] + grades['d_count'] + grades['f_count'] + grades['s_count'] + grades['u_count'] + grades['cr_count'] + grades['n_count'] + grades['p_count'] + grades['i_count'] + grades['nw_count'] + grades['nr_count'] + grades['other_count']"
   ]
  },
  {
   "cell_type": "code",
   "execution_count": 10,
   "metadata": {},
   "outputs": [],
   "source": [
    "# find total number of students taking class for grade (A-f)\n",
    "grades['graded'] = grades['a_count'] + grades['ab_count'] + grades['b_count'] + grades['bc_count'] + grades['c_count'] + grades['d_count'] + grades['f_count'] "
   ]
  },
  {
   "cell_type": "code",
   "execution_count": 11,
   "metadata": {},
   "outputs": [],
   "source": [
    "# find average grade per class (of graded students)\n",
    "grades['grade_total'] = grades['a_count']*4 + grades['ab_count']*3.5 + grades['b_count']*3 + grades['bc_count']*2.5 + grades['c_count']*2 + grades['d_count']*1 + grades['f_count']*0 "
   ]
  },
  {
   "cell_type": "code",
   "execution_count": null,
   "metadata": {},
   "outputs": [],
   "source": []
  },
  {
   "cell_type": "raw",
   "metadata": {},
   "source": []
  }
 ],
 "metadata": {
  "kernelspec": {
   "display_name": "Python 3",
   "language": "python",
   "name": "python3"
  },
  "language_info": {
   "codemirror_mode": {
    "name": "ipython",
    "version": 3
   },
   "file_extension": ".py",
   "mimetype": "text/x-python",
   "name": "python",
   "nbconvert_exporter": "python",
   "pygments_lexer": "ipython3",
   "version": "3.7.0"
  }
 },
 "nbformat": 4,
 "nbformat_minor": 2
}
