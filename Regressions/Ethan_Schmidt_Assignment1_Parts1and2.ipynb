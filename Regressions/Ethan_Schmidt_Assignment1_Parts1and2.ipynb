{
 "cells": [
  {
   "cell_type": "markdown",
   "metadata": {},
   "source": [
    "Ethan T. Schmidt\n",
    "\n",
    "Professor Zweig\n",
    "\n",
    "Applied Regressions\n",
    "\n",
    "30 Jan 19"
   ]
  },
  {
   "cell_type": "markdown",
   "metadata": {},
   "source": [
    "Assignment 1, Part 1\n",
    "\n",
    "1. \n",
    "Mean - sum of a collection of numbers divided by the count of numbers in the collection\n",
    "\n",
    "Median - the value separating the higher half from the lower half of a data sample\n",
    "\n",
    "Standard deviation - is a statistic that measures the dispersion of a dataset relative to its mean and is calculated as the square root of the variance\n",
    "\n",
    "Standard error - an indication of how well the mean of a sample estimates the mean of a population.\n",
    "\n",
    "2. A population includes all of the elements from a set of data. A sample consists one or more observations drawn from the population.\n",
    "\n",
    "3. The distribution of the histogram skews to the left; however, the Richter scale is a logistic measurement, so the right tail of the distribution will naturally be more spread out.\n",
    "\n",
    "4. Cross sectional data is multiple data points from subjects at a single point in time; panel data spans across time and subject observations. \n",
    "\n",
    "5. This data appears to be time series or panel data."
   ]
  },
  {
   "cell_type": "code",
   "execution_count": 3,
   "metadata": {},
   "outputs": [
    {
     "name": "stdout",
     "output_type": "stream",
     "text": [
      "1.0 1.5 1.118033988749895 0.5\n"
     ]
    }
   ],
   "source": [
    "# 6.\n",
    "import numpy as np\n",
    "from scipy import stats\n",
    "n = [-0.5, 1.5, 2.5, 1.5, -0.5, 1.5]\n",
    "print(np.mean(n), np.median(n), np.std(n), stats.sem(n))"
   ]
  },
  {
   "cell_type": "code",
   "execution_count": 5,
   "metadata": {},
   "outputs": [
    {
     "data": {
      "image/png": "[encoded data removed]",
      "text/plain": [
       "<Figure size 432x288 with 1 Axes>"
      ]
     },
     "metadata": {},
     "output_type": "display_data"
    },
    {
     "name": "stdout",
     "output_type": "stream",
     "text": [
      "[[0.80333333 1.53333333]\n",
      " [1.53333333 6.66666667]]\n",
      "[138.8]\n"
     ]
    }
   ],
   "source": [
    "# 7.\n",
    "import matplotlib.pyplot as plt\n",
    "x = [2.1, 2.5, 4.0, 3.6]\n",
    "y = [8, 12, 14, 10]\n",
    "\n",
    "plt.scatter(x, y)\n",
    "plt.show()\n",
    "print(np.cov(x, y))\n",
    "print(np.correlate(x, y))"
   ]
  },
  {
   "cell_type": "markdown",
   "metadata": {},
   "source": [
    "There is a positive correlation betweeneconomic growth and S& returns; as the former does better, so does the latter."
   ]
  },
  {
   "cell_type": "markdown",
   "metadata": {},
   "source": [
    "# Applied Regression \n",
    "\n",
    "Columbia Graduate School of Business | Problem Set 1\n"
   ]
  },
  {
   "cell_type": "markdown",
   "metadata": {},
   "source": [
    "## Question 1 \n",
    "\n",
    "For each part (a)-(i), describe the **type** and **value** of the variable with the corresponding name:\n",
    "\n",
    "(a) `a = 2*3` \n",
    "\n",
    "(b) `b = 2.0*3`\n",
    "\n",
    "(c) `c = 'abc'`\n",
    "\n",
    "(d) `d = ['This', \"is\", 'not', \"a\", 'string']`\n",
    "\n",
    "(e) `e = d[3]`\n",
    "\n",
    "(f) `f = (1, 2, 3)`\n",
    "\n",
    "(g) `g = {1: 'Chase', 2: 'Dave', 3: 'Spencer'}` \n",
    "\n",
    "(h) `h = 'foo' + 'bar'`\n",
    "\n",
    "(i) `i = (1 != 0)`   # parens not needed, but they make code more understandable\n"
   ]
  },
  {
   "cell_type": "code",
   "execution_count": 19,
   "metadata": {},
   "outputs": [],
   "source": [
    "a = 2*3\n",
    "b = 2.0*3\n",
    "c = 'abc'\n",
    "d = ['This', \"is\", 'not', \"a\", 'string']\n",
    "e = d[3]\n",
    "f = (1, 2, 3)\n",
    "g = {1: 'Chase', 2: 'Dave', 3: 'Spencer'}\n",
    "h = 'foo' + 'bar'\n",
    "i = (1 != 0)"
   ]
  },
  {
   "cell_type": "code",
   "execution_count": 21,
   "metadata": {},
   "outputs": [
    {
     "name": "stdout",
     "output_type": "stream",
     "text": [
      "value is 6\n",
      "type is <class 'int'>\n",
      "value is 6.0\n",
      "type is <class 'float'>\n",
      "value is abc\n",
      "type is <class 'str'>\n",
      "value is ['This', 'is', 'not', 'a', 'string']\n",
      "type is <class 'list'>\n",
      "value is a\n",
      "type is <class 'str'>\n",
      "value is (1, 2, 3)\n",
      "type is <class 'tuple'>\n",
      "value is {1: 'Chase', 2: 'Dave', 3: 'Spencer'}\n",
      "type is <class 'dict'>\n",
      "value is foobar\n",
      "type is <class 'str'>\n",
      "value is True\n",
      "type is <class 'bool'>\n"
     ]
    }
   ],
   "source": [
    "stuff = [a, b, c, d, e, f, g, h, i]\n",
    "for i in stuff:\n",
    "    print(\"value is\",i)\n",
    "    print(\"type is\",type(i))"
   ]
  },
  {
   "cell_type": "markdown",
   "metadata": {},
   "source": [
    "## Question 2\n",
    "\n",
    "Take the `first` and `last` variables defined in the cell below and do the following with them:  \n",
    "\n",
    "(a) Extract the first letter of `last`.  \n",
    "\n",
    "(b) Find a method to _split_ `last` into two components at the hyphen.  \n",
    "\n",
    "(c) Define a new string variable named `combo` consisting of `first` (the first name), a space, the first letter of `last`, and a period.  \n"
   ]
  },
  {
   "cell_type": "code",
   "execution_count": 22,
   "metadata": {},
   "outputs": [],
   "source": [
    "first = 'Wilhelmina'\n",
    "last  = 'Grubbly-Plank' "
   ]
  },
  {
   "cell_type": "code",
   "execution_count": 25,
   "metadata": {},
   "outputs": [
    {
     "data": {
      "text/plain": [
       "'G'"
      ]
     },
     "execution_count": 25,
     "metadata": {},
     "output_type": "execute_result"
    }
   ],
   "source": [
    "last[0]"
   ]
  },
  {
   "cell_type": "code",
   "execution_count": 27,
   "metadata": {},
   "outputs": [
    {
     "data": {
      "text/plain": [
       "['Grubbly', 'Plank']"
      ]
     },
     "execution_count": 27,
     "metadata": {},
     "output_type": "execute_result"
    }
   ],
   "source": [
    "last.split(\"-\")"
   ]
  },
  {
   "cell_type": "code",
   "execution_count": 30,
   "metadata": {},
   "outputs": [
    {
     "name": "stdout",
     "output_type": "stream",
     "text": [
      "Wilhelmina G.\n"
     ]
    }
   ],
   "source": [
    "combo = first + \" \" + last[0] + \".\"\n",
    "print(combo)"
   ]
  }
 ],
 "metadata": {
  "kernelspec": {
   "display_name": "Python 3",
   "language": "python",
   "name": "python3"
  },
  "language_info": {
   "codemirror_mode": {
    "name": "ipython",
    "version": 3
   },
   "file_extension": ".py",
   "mimetype": "text/x-python",
   "name": "python",
   "nbconvert_exporter": "python",
   "pygments_lexer": "ipython3",
   "version": "3.7.0"
  }
 },
 "nbformat": 4,
 "nbformat_minor": 2
}
