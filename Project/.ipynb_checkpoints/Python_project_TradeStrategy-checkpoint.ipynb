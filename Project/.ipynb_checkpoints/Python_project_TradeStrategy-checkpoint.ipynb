{
 "cells": [
  {
   "cell_type": "code",
   "execution_count": null,
   "metadata": {},
   "outputs": [],
   "source": [
    "import pandas as pd\n",
    "import numpy as np\n",
    "file = \"S&P 500 Futures Historical Data_20 years.csv\"\n",
    "df = pd.read_csv(file)"
   ]
  },
  {
   "cell_type": "code",
   "execution_count": null,
   "metadata": {},
   "outputs": [],
   "source": [
    "df.head(40)"
   ]
  },
  {
   "cell_type": "code",
   "execution_count": null,
   "metadata": {},
   "outputs": [],
   "source": [
    "df.info()"
   ]
  },
  {
   "cell_type": "code",
   "execution_count": null,
   "metadata": {},
   "outputs": [],
   "source": [
    "df_2 = df.iloc[:4981]"
   ]
  },
  {
   "cell_type": "code",
   "execution_count": null,
   "metadata": {},
   "outputs": [],
   "source": [
    "df_2.info()"
   ]
  },
  {
   "cell_type": "code",
   "execution_count": null,
   "metadata": {},
   "outputs": [],
   "source": [
    "df_2"
   ]
  },
  {
   "cell_type": "code",
   "execution_count": null,
   "metadata": {},
   "outputs": [],
   "source": [
    "capital = 100000.00\n",
    "Max_Lots = 8\n",
    "lot_size = 50\n",
    "margin_per_lot = 6600\n",
    "Profit_taking = 0.05\n",
    "Stop_loss = -0.01\n",
    "Proximity = 0.05\n",
    "per_capital_deployed = 0.3\n"
   ]
  },
  {
   "cell_type": "code",
   "execution_count": null,
   "metadata": {},
   "outputs": [],
   "source": [
    "def strategy(row):\n",
    "    if (row['Price'] > row['BB-upper']*(1-Proximity)) and (row['RSI'] > 70):\n",
    "        Signal = -1.0\n",
    "    elif (row['Price'] < row['BB-lower']*(1+Proximity)) and (row['RSI'] < 30):\n",
    "        Signal = 1.0\n",
    "    else:\n",
    "        Signal = 0.0\n",
    "    return Signal"
   ]
  },
  {
   "cell_type": "code",
   "execution_count": null,
   "metadata": {
    "scrolled": true
   },
   "outputs": [],
   "source": [
    "df_2= df_2.iloc[::-1] \n",
    "\n",
    "# for idx in df_2.iterrows():\n",
    "#     if df_2['Trade'] == 1.0:\n",
    "#         print(idx, df_2.index.get_loc(idx))\n",
    "            \n",
    "df_2['Signal'] = df_2.apply(strategy, axis=1)        \n"
   ]
  },
  {
   "cell_type": "code",
   "execution_count": null,
   "metadata": {},
   "outputs": [],
   "source": [
    "#df_2['Trade']=df_2['Signal']*lot_size*Max_lots"
   ]
  },
  {
   "cell_type": "code",
   "execution_count": null,
   "metadata": {},
   "outputs": [],
   "source": [
    "df_2['Daily_chg']= df_2['Price'].pct_change()\n",
    "df_2['Daily_chg'].iloc[0]=0.0\n",
    "df_2\n",
    "# df_2['Trade'].get_loc(1)\n",
    "# df_2\n",
    "\n",
    "df_2[df_2['Signal']==-1]"
   ]
  },
  {
   "cell_type": "code",
   "execution_count": null,
   "metadata": {},
   "outputs": [],
   "source": [
    "def position(row):\n",
    "    if row['Signal'] == 1:\n",
    "        position = Max_Lots * lot_size*1\n",
    "        return position\n",
    "    elif row['Signal'] == -1:\n",
    "        position = Max_Lots * lot_size * -1\n",
    "        return position\n",
    "    else:\n",
    "        return 0\n",
    "\n",
    "df_2['Position'] = df_2.apply(position, axis=1)\n",
    "df_2['Daily_abs_chg'] = df_2['Daily_chg']*df_2['Open']\n",
    "df_2.head(100)\n",
    "    \n",
    "    \n",
    "    "
   ]
  },
  {
   "cell_type": "code",
   "execution_count": null,
   "metadata": {},
   "outputs": [],
   "source": [
    "l = int(capital / margin_per_lot)\n",
    "l"
   ]
  },
  {
   "cell_type": "code",
   "execution_count": null,
   "metadata": {},
   "outputs": [],
   "source": [
    "def profit(df_2,profit_taking,Stop_loss,per_capital_deployed):\n",
    "    entry_price = 0\n",
    "    exit_price = 0\n",
    "    current_profit = 0 \n",
    "    trade_stoploss = np.inf\n",
    "    trade_profitreshold = np.inf \n",
    "    total_profit = 0\n",
    "    record = list()\n",
    "    in_trade = False \n",
    "    trade_type = 'none'\n",
    "    \n",
    "    lots_traded = int (capital* per_capital_deployed / margin_per_lot)\n",
    "\n",
    "\n",
    "\n",
    "    for row in df_2.itertuples(): \n",
    "        if not in_trade:\n",
    "            if row.Signal ==1:\n",
    "                entry_price = row.Price\n",
    "                trade_stoploss = row.Price*Stop_loss\n",
    "                trade_profitreshold = row.Price*Profit_taking\n",
    "                trade_type = 'long'\n",
    "                in_trade = True\n",
    "#                 print(f'Buying {lots_traded} lots on {row.Date}, price: {row.Price} and trade type is {trade_type}')\n",
    "            elif row.Signal ==-1: \n",
    "                entry_price = row.Price\n",
    "                trade_stoploss = -row.Price *Stop_loss\n",
    "                trade_profitreshold = -row.Price *Profit_taking\n",
    "                trade_type = 'short'\n",
    "                in_trade = True\n",
    "#                 print(f'Selling {lots_traded} lots on {row.Date}, price: {row.Price} and trade type is {trade_type}')\n",
    "\n",
    "        else: \n",
    "            current_profit +=  (row.Daily_abs_chg )\n",
    "            lots_traded = round((capital+total_profit)*per_capital_deployed / margin_per_lot,0)\n",
    "#             print(f'Current profit is {current_profit} and profit treshhold per share is {trade_profitreshold} and stoploss is {trade_stoploss}')\n",
    "            if trade_type == 'short':\n",
    "                if current_profit <= trade_profitreshold:\n",
    "                    total_profit += -(trade_profitreshold * lots_traded * lot_size)\n",
    "#                     print(f'Exiting {trade_type} on {row.Date}, price: {row.Price}, profit is {total_profit}')        \n",
    "                    record.append({'entry price':entry_price, 'exit price':row.Price, 'gain_loss':current_profit, 'trade_type':trade_type})\n",
    "                    current_profit = 0 \n",
    "                    entry_price = 0\n",
    "                    trade_stoploss = np.inf\n",
    "                    trade_profitreshold = np.inf\n",
    "                    trade_type = 'none'\n",
    "                    in_trade = False\n",
    "                elif current_profit>= trade_stoploss:\n",
    "                    total_profit += -trade_stoploss* lots_traded * lot_size\n",
    "#                     print(f'Exiting {trade_type} on {row.Date}, price: {row.Price}, profit is {total_profit}')        \n",
    "                    record.append({'entry price':entry_price, 'exit price':row.Price, 'gain_loss':current_profit, 'trade_type':trade_type})\n",
    "                    current_profit = 0 \n",
    "                    entry_price = 0\n",
    "                    trade_stoploss = np.inf\n",
    "                    trade_profitreshold = np.inf\n",
    "                    trade_type = 'none'\n",
    "                    in_trade = False\n",
    "            elif trade_type == 'long':\n",
    "                if current_profit >= trade_profitreshold: \n",
    "                    total_profit += trade_profitreshold* lots_traded * lot_size\n",
    "#                     print(f'Exiting {trade_type} on {row.Date}, price: {row.Price}, profit is {total_profit}')        \n",
    "                    record.append({'entry price':entry_price, 'exit price':row.Price, 'gain_loss':current_profit, 'trade_type':trade_type})\n",
    "                    current_profit = 0 \n",
    "                    entry_price = 0\n",
    "                    trade_stoploss = np.inf\n",
    "                    trade_profitreshold = np.inf\n",
    "                    trade_type = 'none'\n",
    "                    in_trade = False\n",
    "\n",
    "                elif current_profit<= trade_stoploss: \n",
    "                    total_profit += trade_stoploss* lots_traded * lot_size\n",
    "#                     print(f'Exiting {trade_type} on {row.Date}, price: {row.Price}, profit is {total_profit}')        \n",
    "                    record.append({'entry price':entry_price, 'exit price':row.Price, 'gain_loss':current_profit, 'trade_type':trade_type})\n",
    "                    current_profit = 0 \n",
    "                    entry_price = 0\n",
    "                    trade_stoploss = np.inf\n",
    "                    trade_profitreshold = np.inf\n",
    "                    trade_type = 'none'\n",
    "                    in_trade = False\n",
    "                \n",
    "\n",
    "    return total_profit\n",
    "profit(df_2, Profit_taking, Stop_loss, per_capital_deployed)"
   ]
  },
  {
   "cell_type": "code",
   "execution_count": null,
   "metadata": {},
   "outputs": [],
   "source": [
    "!pip install SALib"
   ]
  },
  {
   "cell_type": "code",
   "execution_count": null,
   "metadata": {},
   "outputs": [],
   "source": [
    "import numpy as np\n",
    "from scipy.optimize import minimize"
   ]
  },
  {
   "cell_type": "code",
   "execution_count": null,
   "metadata": {},
   "outputs": [],
   "source": [
    "def opt(x):\n",
    "    Profit_thresh = x[0]\n",
    "    Stoploss_Thresh = x[1]\n",
    "    per_capital_per_trade = x[2]\n",
    "    return profit(df_2,Profit_thresh,Stoploss_Thresh,per_capital_per_trade)\n",
    "\n",
    "def objective(x):\n",
    "    return -opt(x)\n",
    "Profit_taking = 0.05\n",
    "Stop_loss = -0.01\n",
    "per_capital_deployed = 0.2\n",
    "\n",
    "def cons(x):\n",
    "    return 0 - x[0]*x[1]*x[2]\n",
    "\n",
    "x0 = np.array([Profit_taking, Stop_loss, per_capital_deployed])\n",
    "bnds = ((0.00, 0.1), (-0.05, 0.0), (0.00, 1.00))\n",
    "my_constraints = ({'type': 'ineq', \"fun\": cons})\n",
    "\n",
    "# opt(0.05,-0.01,0.9)\n",
    "result = minimize(objective,x0, method = 'Nelder',constraints= None,bounds= bnds, options = {'disp': True, 'maxiter': 1000})"
   ]
  },
  {
   "cell_type": "code",
   "execution_count": null,
   "metadata": {},
   "outputs": [],
   "source": [
    "result.x"
   ]
  }
 ],
 "metadata": {
  "kernelspec": {
   "display_name": "Python 3",
   "language": "python",
   "name": "python3"
  },
  "language_info": {
   "codemirror_mode": {
    "name": "ipython",
    "version": 3
   },
   "file_extension": ".py",
   "mimetype": "text/x-python",
   "name": "python",
   "nbconvert_exporter": "python",
   "pygments_lexer": "ipython3",
   "version": "3.7.0"
  }
 },
 "nbformat": 4,
 "nbformat_minor": 2
}
